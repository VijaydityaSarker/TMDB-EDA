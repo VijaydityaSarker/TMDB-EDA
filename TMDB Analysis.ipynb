{
 "cells": [
  {
   "cell_type": "markdown",
   "id": "7b4b176f",
   "metadata": {},
   "source": [
    "#                                 DATA SCIENCE IN PYTHON\n"
   ]
  },
  {
   "cell_type": "markdown",
   "id": "ae52da56",
   "metadata": {},
   "source": [
    "# TMDB ANALYSIS"
   ]
  },
  {
   "cell_type": "markdown",
   "id": "c0105dfb",
   "metadata": {},
   "source": [
    "# VIJAYDITYA SARKER"
   ]
  },
  {
   "cell_type": "code",
   "execution_count": 1,
   "id": "ee72ec30",
   "metadata": {},
   "outputs": [],
   "source": [
    "import requests\n",
    "import pandas as pd\n",
    "import numpy as np\n",
    "import seaborn as sns\n",
    "import warnings\n",
    "warnings.filterwarnings('ignore')"
   ]
  },
  {
   "cell_type": "markdown",
   "id": "778ffa7b",
   "metadata": {},
   "source": [
    "### Passing Api_Key and Declaring Url for the APi"
   ]
  },
  {
   "cell_type": "code",
   "execution_count": 2,
   "id": "45af13a5",
   "metadata": {},
   "outputs": [
    {
     "name": "stdout",
     "output_type": "stream",
     "text": [
      "https://api.themoviedb.org/3/discover/movie?api_key=ed8f106adb572ac855a3ec5ce179fc62&language=en-US&page=1&with_genres=27\n"
     ]
    }
   ],
   "source": [
    "api_key=\"ed8f106adb572ac855a3ec5ce179fc62\"\n",
    "url=\"https://api.themoviedb.org/3/discover/movie?api_key=\"+api_key+\"&language=en-US&page=1&with_genres=27\"\n",
    "print(url)"
   ]
  },
  {
   "cell_type": "markdown",
   "id": "dd8265c8",
   "metadata": {},
   "source": [
    "### Fetching Json Data from Url"
   ]
  },
  {
   "cell_type": "code",
   "execution_count": 3,
   "id": "9677b21e",
   "metadata": {},
   "outputs": [
    {
     "data": {
      "text/plain": [
       "{'page': 1,\n",
       " 'results': [{'adult': False,\n",
       "   'backdrop_path': '/y5Z0WesTjvn59jP6yo459eUsbli.jpg',\n",
       "   'genre_ids': [27, 53],\n",
       "   'id': 663712,\n",
       "   'original_language': 'en',\n",
       "   'original_title': 'Terrifier 2',\n",
       "   'overview': \"After being resurrected by a sinister entity, Art the Clown returns to Miles County where he must hunt down and destroy a teenage girl and her younger brother on Halloween night.  As the body count rises, the siblings fight to stay alive while uncovering the true nature of Art's evil intent.\",\n",
       "   'popularity': 8396.618,\n",
       "   'poster_path': '/b6IRp6Pl2Fsq37r9jFhGoLtaqHm.jpg',\n",
       "   'release_date': '2022-10-06',\n",
       "   'title': 'Terrifier 2',\n",
       "   'video': False,\n",
       "   'vote_average': 7.1,\n",
       "   'vote_count': 370},\n",
       "  {'adult': False,\n",
       "   'backdrop_path': '/naNXYdBzTEb1KwOdi1RbBkM9Zv1.jpg',\n",
       "   'genre_ids': [27, 53],\n",
       "   'id': 420634,\n",
       "   'original_language': 'en',\n",
       "   'original_title': 'Terrifier',\n",
       "   'overview': 'On Halloween night, a young woman finds herself as the obsession of a sadistic murderer known as Art the Clown.',\n",
       "   'popularity': 3457.049,\n",
       "   'poster_path': '/6PQqC4SbY910VvyVad6mvsboILU.jpg',\n",
       "   'release_date': '2016-10-15',\n",
       "   'title': 'Terrifier',\n",
       "   'video': False,\n",
       "   'vote_average': 6.5,\n",
       "   'vote_count': 838},\n",
       "  {'adult': False,\n",
       "   'backdrop_path': '/bJa3RcFKgtVKJqTJCSSuBQeP9c8.jpg',\n",
       "   'genre_ids': [27],\n",
       "   'id': 86328,\n",
       "   'original_language': 'en',\n",
       "   'original_title': 'Terrifier',\n",
       "   'overview': 'After witnessing a brutal murder on Halloween night, a young woman becomes the next target of a maniacal entity.',\n",
       "   'popularity': 2445.841,\n",
       "   'poster_path': '/gb6rq2nD0jRrN0dCzigg2MxXNsB.jpg',\n",
       "   'release_date': '2011-08-09',\n",
       "   'title': 'Terrifier',\n",
       "   'video': False,\n",
       "   'vote_average': 6.6,\n",
       "   'vote_count': 39},\n",
       "  {'adult': False,\n",
       "   'backdrop_path': '/tIX6j3NzadlwGcJ52nuWdmtOQkg.jpg',\n",
       "   'genre_ids': [27, 53, 9648],\n",
       "   'id': 717728,\n",
       "   'original_language': 'en',\n",
       "   'original_title': 'Jeepers Creepers: Reborn',\n",
       "   'overview': 'Forced to travel with her boyfriend to a horror festival, Laine begins to experience disturbing visions associated with the urban legend of The Creeper. As the festival arrives and the blood-soaked entertainment builds to a frenzy, she becomes the center of it while something unearthly has been summoned.',\n",
       "   'popularity': 1927.044,\n",
       "   'poster_path': '/aGBuiirBIQ7o64FmJxO53eYDuro.jpg',\n",
       "   'release_date': '2022-09-15',\n",
       "   'title': 'Jeepers Creepers: Reborn',\n",
       "   'video': False,\n",
       "   'vote_average': 5.7,\n",
       "   'vote_count': 413},\n",
       "  {'adult': False,\n",
       "   'backdrop_path': '/5GA3vV1aWWHTSDO5eno8V5zDo8r.jpg',\n",
       "   'genre_ids': [27, 53],\n",
       "   'id': 760161,\n",
       "   'original_language': 'en',\n",
       "   'original_title': 'Orphan: First Kill',\n",
       "   'overview': 'After escaping from an Estonian psychiatric facility, Leena Klammer travels to America by impersonating Esther, the missing daughter of a wealthy family. But when her mask starts to slip, she is put against a mother who will protect her family from the murderous “child” at any cost.',\n",
       "   'popularity': 1649.832,\n",
       "   'poster_path': '/pHkKbIRoCe7zIFvqan9LFSaQAde.jpg',\n",
       "   'release_date': '2022-07-27',\n",
       "   'title': 'Orphan: First Kill',\n",
       "   'video': False,\n",
       "   'vote_average': 6.8,\n",
       "   'vote_count': 1216},\n",
       "  {'adult': False,\n",
       "   'backdrop_path': '/aTovumsNlDjof7YVoU5nW2RHaYn.jpg',\n",
       "   'genre_ids': [27, 53],\n",
       "   'id': 616820,\n",
       "   'original_language': 'en',\n",
       "   'original_title': 'Halloween Ends',\n",
       "   'overview': 'Four years after the events of Halloween in 2018, Laurie has decided to liberate herself from fear and rage and embrace life. But when a young man is accused of killing a boy he was babysitting, it ignites a cascade of violence and terror that will force Laurie to finally confront the evil she can’t control, once and for all.',\n",
       "   'popularity': 1447.076,\n",
       "   'poster_path': '/h1FGQ6FRW6kNx4ACxjCJ18ssW3Y.jpg',\n",
       "   'release_date': '2022-10-12',\n",
       "   'title': 'Halloween Ends',\n",
       "   'video': False,\n",
       "   'vote_average': 6.6,\n",
       "   'vote_count': 839},\n",
       "  {'adult': False,\n",
       "   'backdrop_path': '/2iGUavwv86Hubv3V5Iq4qEQXDfE.jpg',\n",
       "   'genre_ids': [18, 53, 27],\n",
       "   'id': 848058,\n",
       "   'original_language': 'es',\n",
       "   'original_title': 'Cerdita',\n",
       "   'overview': 'A bullied overweight teenager sees a glimpse of hope when her tormentors are brutally abducted by a mesmerizing stranger.',\n",
       "   'popularity': 1200.168,\n",
       "   'poster_path': '/8EIQAvJjXdbNDMmBtHtgGqbc09V.jpg',\n",
       "   'release_date': '2022-10-07',\n",
       "   'title': 'Piggy',\n",
       "   'video': False,\n",
       "   'vote_average': 6.7,\n",
       "   'vote_count': 158},\n",
       "  {'adult': False,\n",
       "   'backdrop_path': '/b2FxWOxe9K7ZZ1uaPOze2RJ1ajq.jpg',\n",
       "   'genre_ids': [27, 28, 35],\n",
       "   'id': 675054,\n",
       "   'original_language': 'es',\n",
       "   'original_title': 'MexZombies',\n",
       "   'overview': 'A group of teenagers must face a zombie apocalypse, and help reestablish order.',\n",
       "   'popularity': 1014.663,\n",
       "   'poster_path': '/pTxw4GFE3ZfzJfvuUsPyD5njAuI.jpg',\n",
       "   'release_date': '2022-10-26',\n",
       "   'title': 'MexZombies',\n",
       "   'video': False,\n",
       "   'vote_average': 7.4,\n",
       "   'vote_count': 40},\n",
       "  {'adult': False,\n",
       "   'backdrop_path': '/ev0PWpXvWWoWsg69hOcXjZs2Ayn.jpg',\n",
       "   'genre_ids': [27, 9648, 53],\n",
       "   'id': 882598,\n",
       "   'original_language': 'en',\n",
       "   'original_title': 'Smile',\n",
       "   'overview': \"After witnessing a bizarre, traumatic incident involving a patient, Dr. Rose Cotter starts experiencing frightening occurrences that she can't explain. As an overwhelming terror begins taking over her life, Rose must confront her troubling past in order to survive and escape her horrifying new reality.\",\n",
       "   'popularity': 938.656,\n",
       "   'poster_path': '/aPqcQwu4VGEewPhagWNncDbJ9Xp.jpg',\n",
       "   'release_date': '2022-09-23',\n",
       "   'title': 'Smile',\n",
       "   'video': False,\n",
       "   'vote_average': 6.8,\n",
       "   'vote_count': 367},\n",
       "  {'adult': False,\n",
       "   'backdrop_path': None,\n",
       "   'genre_ids': [27, 14, 53],\n",
       "   'id': 1034541,\n",
       "   'original_language': 'en',\n",
       "   'original_title': 'Terrifier 3',\n",
       "   'overview': \"In the aftermath of Terrifier 2, the third installment will continue to follow Sienna and Jonathan as they uncover Art the Clown's background and his connection to their late father.\",\n",
       "   'popularity': 840.015,\n",
       "   'poster_path': '/A2ouWngHdomaAyFAPMI7VOpOLvS.jpg',\n",
       "   'release_date': '',\n",
       "   'title': 'Terrifier 3',\n",
       "   'video': False,\n",
       "   'vote_average': 0,\n",
       "   'vote_count': 0},\n",
       "  {'adult': False,\n",
       "   'backdrop_path': '/2SEGjVLy7fYbovIyDR7IntH1jT2.jpg',\n",
       "   'genre_ids': [27, 9648, 53],\n",
       "   'id': 913290,\n",
       "   'original_language': 'en',\n",
       "   'original_title': 'Barbarian',\n",
       "   'overview': 'In town for a job interview, a young woman arrives at her Airbnb late at night only to find that it has been mistakenly double-booked and a strange man is already staying there. Against her better judgement, she decides to stay the night anyway, but soon discovers that there is much more to be afraid of in the house than the other guest.',\n",
       "   'popularity': 782.047,\n",
       "   'poster_path': '/idT5mnqPcJgSkvpDX7pJffBzdVH.jpg',\n",
       "   'release_date': '2022-09-08',\n",
       "   'title': 'Barbarian',\n",
       "   'video': False,\n",
       "   'vote_average': 7,\n",
       "   'vote_count': 497},\n",
       "  {'adult': False,\n",
       "   'backdrop_path': '/2k9tBql5GYH328Krj66tDT9LtFZ.jpg',\n",
       "   'genre_ids': [53, 12, 27],\n",
       "   'id': 760741,\n",
       "   'original_language': 'en',\n",
       "   'original_title': 'Beast',\n",
       "   'overview': 'A recently widowed man and his two teenage daughters travel to a game reserve in South Africa. However, their journey of healing soon turns into a fight for survival when a bloodthirsty lion starts to stalk them.',\n",
       "   'popularity': 780.139,\n",
       "   'poster_path': '/xIGr7UHsKf0URWmyyd5qFMAq4d8.jpg',\n",
       "   'release_date': '2022-08-11',\n",
       "   'title': 'Beast',\n",
       "   'video': False,\n",
       "   'vote_average': 7,\n",
       "   'vote_count': 738},\n",
       "  {'adult': False,\n",
       "   'backdrop_path': '/y59qFOlmRKfRKIWzxuzUf0mDc4G.jpg',\n",
       "   'genre_ids': [27],\n",
       "   'id': 1024530,\n",
       "   'original_language': 'en',\n",
       "   'original_title': 'Grimcutty',\n",
       "   'overview': 'A suburban teen girl and her little brother must stop a terrifying internet meme brought to life by the hysteria of their parents.',\n",
       "   'popularity': 773.157,\n",
       "   'poster_path': '/qvg75YJMfbHeDNirUrrgBMQImRn.jpg',\n",
       "   'release_date': '2022-10-10',\n",
       "   'title': 'Grimcutty',\n",
       "   'video': False,\n",
       "   'vote_average': 5.6,\n",
       "   'vote_count': 187},\n",
       "  {'adult': False,\n",
       "   'backdrop_path': '/kdOfq5ImruKCJDEqASuuXlrj9LM.jpg',\n",
       "   'genre_ids': [27, 18, 36],\n",
       "   'id': 883083,\n",
       "   'original_language': 'mk',\n",
       "   'original_title': \"You Won't Be Alone\",\n",
       "   'overview': \"In an isolated mountain village in 19th century Macedonia, a young feral witch accidentally kills a peasant. She assumes the peasant's shape to see what life is like in her skin, igniting a deep seated curiosity to experience life inside the bodies of others.\",\n",
       "   'popularity': 678.31,\n",
       "   'poster_path': '/kJ1bSR2T16yzgRMSySpbAJzF3rM.jpg',\n",
       "   'release_date': '2022-04-01',\n",
       "   'title': \"You Won't Be Alone\",\n",
       "   'video': False,\n",
       "   'vote_average': 6.6,\n",
       "   'vote_count': 129},\n",
       "  {'adult': False,\n",
       "   'backdrop_path': '/23sJzwaYazdzqnp2gm6GAQk4sCc.jpg',\n",
       "   'genre_ids': [27, 53],\n",
       "   'id': 969160,\n",
       "   'original_language': 'en',\n",
       "   'original_title': 'Deinfluencer',\n",
       "   'overview': 'An influential cheerleader finds herself held captive by a masked psychopath with a God complex. She must complete a series of sadistic social media challenges to save her life and the lives of her fellow captives. However, the masked kidnapper has a secret agenda for his most recent victim.',\n",
       "   'popularity': 677.356,\n",
       "   'poster_path': '/gLnrBoSENk32SKjHDiZv7E4zwzK.jpg',\n",
       "   'release_date': '2022-10-01',\n",
       "   'title': 'Deinfluencer',\n",
       "   'video': False,\n",
       "   'vote_average': 4,\n",
       "   'vote_count': 2},\n",
       "  {'adult': False,\n",
       "   'backdrop_path': '/o8tThg5KqX3t32vbAIxNuS8Fmlj.jpg',\n",
       "   'genre_ids': [27, 53],\n",
       "   'id': 1005776,\n",
       "   'original_language': 'en',\n",
       "   'original_title': 'V/H/S/99',\n",
       "   'overview': 'A teenager’s home video leads to a series of horrifying revelations.',\n",
       "   'popularity': 667.477,\n",
       "   'poster_path': '/1bOMmFtnykBmvhFcx8zdXO6bCAa.jpg',\n",
       "   'release_date': '2022-09-15',\n",
       "   'title': 'V/H/S/99',\n",
       "   'video': False,\n",
       "   'vote_average': 6.2,\n",
       "   'vote_count': 54},\n",
       "  {'adult': False,\n",
       "   'backdrop_path': '/AfvIjhDu9p64jKcmohS4hsPG95Q.jpg',\n",
       "   'genre_ids': [27, 53],\n",
       "   'id': 756999,\n",
       "   'original_language': 'en',\n",
       "   'original_title': 'The Black Phone',\n",
       "   'overview': 'Finney Blake, a shy but clever 13-year-old boy, is abducted by a sadistic killer and trapped in a soundproof basement where screaming is of little use. When a disconnected phone on the wall begins to ring, Finney discovers that he can hear the voices of the killer’s previous victims. And they are dead set on making sure that what happened to them doesn’t happen to Finney.',\n",
       "   'popularity': 660.499,\n",
       "   'poster_path': '/lr11mCT85T1JanlgjMuhs9nMht4.jpg',\n",
       "   'release_date': '2022-06-22',\n",
       "   'title': 'The Black Phone',\n",
       "   'video': False,\n",
       "   'vote_average': 7.9,\n",
       "   'vote_count': 2999},\n",
       "  {'adult': False,\n",
       "   'backdrop_path': '/xXSjMjCdZ6v7NIFvsSMNqe4ySkF.jpg',\n",
       "   'genre_ids': [27],\n",
       "   'id': 1032950,\n",
       "   'original_language': 'pl',\n",
       "   'original_title': 'Ostatnia Wieczerza',\n",
       "   'overview': 'In a monastery cut off from the world, the monks run a clinic for the possessed. One day, a young policeman Marek comes to the convent. Posing as a clergyman, he penetrates monastic life and tries to explain the recent, mysterious disappearance of several tormented inmates. It turns out, however, that there is no way out of the monastery.',\n",
       "   'popularity': 575.45,\n",
       "   'poster_path': '/y47wBamj9vdqBeGaLEFTrYEPTeC.jpg',\n",
       "   'release_date': '2022-10-26',\n",
       "   'title': 'Hellhole',\n",
       "   'video': False,\n",
       "   'vote_average': 6.2,\n",
       "   'vote_count': 76},\n",
       "  {'adult': False,\n",
       "   'backdrop_path': '/cuAUhb0aYQ9PsdU7EN3L2p1d3Ox.jpg',\n",
       "   'genre_ids': [12, 35, 27, 10751],\n",
       "   'id': 864959,\n",
       "   'original_language': 'en',\n",
       "   'original_title': 'The Curse of Bridge Hollow',\n",
       "   'overview': \"A Halloween-hating dad reluctantly teams up with his teenage daughter when an evil spirit wreaks havoc by making their town's decorations come to life.\",\n",
       "   'popularity': 520.954,\n",
       "   'poster_path': '/t6P9l6tcVnWLS1ADUAfkUCGQhm0.jpg',\n",
       "   'release_date': '2022-10-14',\n",
       "   'title': 'The Curse of Bridge Hollow',\n",
       "   'video': False,\n",
       "   'vote_average': 7,\n",
       "   'vote_count': 256},\n",
       "  {'adult': False,\n",
       "   'backdrop_path': '/1V9IdXG5e9GF8kic6uVHGpTyJxa.jpg',\n",
       "   'genre_ids': [27, 14, 12, 10751],\n",
       "   'id': 961427,\n",
       "   'original_language': 'en',\n",
       "   'original_title': 'Spirit Halloween: The Movie',\n",
       "   'overview': 'A group of middle schoolers discover a Spirit Halloween store is haunted and must survive the night.',\n",
       "   'popularity': 483.507,\n",
       "   'poster_path': '/akWDID6zfsWHJhGCAAcbwbytU55.jpg',\n",
       "   'release_date': '2022-09-30',\n",
       "   'title': 'Spirit Halloween: The Movie',\n",
       "   'video': False,\n",
       "   'vote_average': 6.8,\n",
       "   'vote_count': 20}],\n",
       " 'total_pages': 1796,\n",
       " 'total_results': 35916}"
      ]
     },
     "execution_count": 3,
     "metadata": {},
     "output_type": "execute_result"
    }
   ],
   "source": [
    "req = requests.get(url)\n",
    "json = req.json()\n",
    "json"
   ]
  },
  {
   "cell_type": "markdown",
   "id": "6259091f",
   "metadata": {},
   "source": [
    "### Parsing Json Data"
   ]
  },
  {
   "cell_type": "markdown",
   "id": "fa59261e",
   "metadata": {},
   "source": [
    "### Fetching All Keys"
   ]
  },
  {
   "cell_type": "code",
   "execution_count": 4,
   "id": "1f90eda6",
   "metadata": {
    "scrolled": true
   },
   "outputs": [
    {
     "data": {
      "text/plain": [
       "dict_keys(['page', 'results', 'total_pages', 'total_results'])"
      ]
     },
     "execution_count": 4,
     "metadata": {},
     "output_type": "execute_result"
    }
   ],
   "source": [
    "json.keys()"
   ]
  },
  {
   "cell_type": "code",
   "execution_count": 5,
   "id": "87c006fc",
   "metadata": {},
   "outputs": [
    {
     "data": {
      "text/plain": [
       "[{'adult': False,\n",
       "  'backdrop_path': '/y5Z0WesTjvn59jP6yo459eUsbli.jpg',\n",
       "  'genre_ids': [27, 53],\n",
       "  'id': 663712,\n",
       "  'original_language': 'en',\n",
       "  'original_title': 'Terrifier 2',\n",
       "  'overview': \"After being resurrected by a sinister entity, Art the Clown returns to Miles County where he must hunt down and destroy a teenage girl and her younger brother on Halloween night.  As the body count rises, the siblings fight to stay alive while uncovering the true nature of Art's evil intent.\",\n",
       "  'popularity': 8396.618,\n",
       "  'poster_path': '/b6IRp6Pl2Fsq37r9jFhGoLtaqHm.jpg',\n",
       "  'release_date': '2022-10-06',\n",
       "  'title': 'Terrifier 2',\n",
       "  'video': False,\n",
       "  'vote_average': 7.1,\n",
       "  'vote_count': 370},\n",
       " {'adult': False,\n",
       "  'backdrop_path': '/naNXYdBzTEb1KwOdi1RbBkM9Zv1.jpg',\n",
       "  'genre_ids': [27, 53],\n",
       "  'id': 420634,\n",
       "  'original_language': 'en',\n",
       "  'original_title': 'Terrifier',\n",
       "  'overview': 'On Halloween night, a young woman finds herself as the obsession of a sadistic murderer known as Art the Clown.',\n",
       "  'popularity': 3457.049,\n",
       "  'poster_path': '/6PQqC4SbY910VvyVad6mvsboILU.jpg',\n",
       "  'release_date': '2016-10-15',\n",
       "  'title': 'Terrifier',\n",
       "  'video': False,\n",
       "  'vote_average': 6.5,\n",
       "  'vote_count': 838},\n",
       " {'adult': False,\n",
       "  'backdrop_path': '/bJa3RcFKgtVKJqTJCSSuBQeP9c8.jpg',\n",
       "  'genre_ids': [27],\n",
       "  'id': 86328,\n",
       "  'original_language': 'en',\n",
       "  'original_title': 'Terrifier',\n",
       "  'overview': 'After witnessing a brutal murder on Halloween night, a young woman becomes the next target of a maniacal entity.',\n",
       "  'popularity': 2445.841,\n",
       "  'poster_path': '/gb6rq2nD0jRrN0dCzigg2MxXNsB.jpg',\n",
       "  'release_date': '2011-08-09',\n",
       "  'title': 'Terrifier',\n",
       "  'video': False,\n",
       "  'vote_average': 6.6,\n",
       "  'vote_count': 39},\n",
       " {'adult': False,\n",
       "  'backdrop_path': '/tIX6j3NzadlwGcJ52nuWdmtOQkg.jpg',\n",
       "  'genre_ids': [27, 53, 9648],\n",
       "  'id': 717728,\n",
       "  'original_language': 'en',\n",
       "  'original_title': 'Jeepers Creepers: Reborn',\n",
       "  'overview': 'Forced to travel with her boyfriend to a horror festival, Laine begins to experience disturbing visions associated with the urban legend of The Creeper. As the festival arrives and the blood-soaked entertainment builds to a frenzy, she becomes the center of it while something unearthly has been summoned.',\n",
       "  'popularity': 1927.044,\n",
       "  'poster_path': '/aGBuiirBIQ7o64FmJxO53eYDuro.jpg',\n",
       "  'release_date': '2022-09-15',\n",
       "  'title': 'Jeepers Creepers: Reborn',\n",
       "  'video': False,\n",
       "  'vote_average': 5.7,\n",
       "  'vote_count': 413},\n",
       " {'adult': False,\n",
       "  'backdrop_path': '/5GA3vV1aWWHTSDO5eno8V5zDo8r.jpg',\n",
       "  'genre_ids': [27, 53],\n",
       "  'id': 760161,\n",
       "  'original_language': 'en',\n",
       "  'original_title': 'Orphan: First Kill',\n",
       "  'overview': 'After escaping from an Estonian psychiatric facility, Leena Klammer travels to America by impersonating Esther, the missing daughter of a wealthy family. But when her mask starts to slip, she is put against a mother who will protect her family from the murderous “child” at any cost.',\n",
       "  'popularity': 1649.832,\n",
       "  'poster_path': '/pHkKbIRoCe7zIFvqan9LFSaQAde.jpg',\n",
       "  'release_date': '2022-07-27',\n",
       "  'title': 'Orphan: First Kill',\n",
       "  'video': False,\n",
       "  'vote_average': 6.8,\n",
       "  'vote_count': 1216},\n",
       " {'adult': False,\n",
       "  'backdrop_path': '/aTovumsNlDjof7YVoU5nW2RHaYn.jpg',\n",
       "  'genre_ids': [27, 53],\n",
       "  'id': 616820,\n",
       "  'original_language': 'en',\n",
       "  'original_title': 'Halloween Ends',\n",
       "  'overview': 'Four years after the events of Halloween in 2018, Laurie has decided to liberate herself from fear and rage and embrace life. But when a young man is accused of killing a boy he was babysitting, it ignites a cascade of violence and terror that will force Laurie to finally confront the evil she can’t control, once and for all.',\n",
       "  'popularity': 1447.076,\n",
       "  'poster_path': '/h1FGQ6FRW6kNx4ACxjCJ18ssW3Y.jpg',\n",
       "  'release_date': '2022-10-12',\n",
       "  'title': 'Halloween Ends',\n",
       "  'video': False,\n",
       "  'vote_average': 6.6,\n",
       "  'vote_count': 839},\n",
       " {'adult': False,\n",
       "  'backdrop_path': '/2iGUavwv86Hubv3V5Iq4qEQXDfE.jpg',\n",
       "  'genre_ids': [18, 53, 27],\n",
       "  'id': 848058,\n",
       "  'original_language': 'es',\n",
       "  'original_title': 'Cerdita',\n",
       "  'overview': 'A bullied overweight teenager sees a glimpse of hope when her tormentors are brutally abducted by a mesmerizing stranger.',\n",
       "  'popularity': 1200.168,\n",
       "  'poster_path': '/8EIQAvJjXdbNDMmBtHtgGqbc09V.jpg',\n",
       "  'release_date': '2022-10-07',\n",
       "  'title': 'Piggy',\n",
       "  'video': False,\n",
       "  'vote_average': 6.7,\n",
       "  'vote_count': 158},\n",
       " {'adult': False,\n",
       "  'backdrop_path': '/b2FxWOxe9K7ZZ1uaPOze2RJ1ajq.jpg',\n",
       "  'genre_ids': [27, 28, 35],\n",
       "  'id': 675054,\n",
       "  'original_language': 'es',\n",
       "  'original_title': 'MexZombies',\n",
       "  'overview': 'A group of teenagers must face a zombie apocalypse, and help reestablish order.',\n",
       "  'popularity': 1014.663,\n",
       "  'poster_path': '/pTxw4GFE3ZfzJfvuUsPyD5njAuI.jpg',\n",
       "  'release_date': '2022-10-26',\n",
       "  'title': 'MexZombies',\n",
       "  'video': False,\n",
       "  'vote_average': 7.4,\n",
       "  'vote_count': 40},\n",
       " {'adult': False,\n",
       "  'backdrop_path': '/ev0PWpXvWWoWsg69hOcXjZs2Ayn.jpg',\n",
       "  'genre_ids': [27, 9648, 53],\n",
       "  'id': 882598,\n",
       "  'original_language': 'en',\n",
       "  'original_title': 'Smile',\n",
       "  'overview': \"After witnessing a bizarre, traumatic incident involving a patient, Dr. Rose Cotter starts experiencing frightening occurrences that she can't explain. As an overwhelming terror begins taking over her life, Rose must confront her troubling past in order to survive and escape her horrifying new reality.\",\n",
       "  'popularity': 938.656,\n",
       "  'poster_path': '/aPqcQwu4VGEewPhagWNncDbJ9Xp.jpg',\n",
       "  'release_date': '2022-09-23',\n",
       "  'title': 'Smile',\n",
       "  'video': False,\n",
       "  'vote_average': 6.8,\n",
       "  'vote_count': 367},\n",
       " {'adult': False,\n",
       "  'backdrop_path': None,\n",
       "  'genre_ids': [27, 14, 53],\n",
       "  'id': 1034541,\n",
       "  'original_language': 'en',\n",
       "  'original_title': 'Terrifier 3',\n",
       "  'overview': \"In the aftermath of Terrifier 2, the third installment will continue to follow Sienna and Jonathan as they uncover Art the Clown's background and his connection to their late father.\",\n",
       "  'popularity': 840.015,\n",
       "  'poster_path': '/A2ouWngHdomaAyFAPMI7VOpOLvS.jpg',\n",
       "  'release_date': '',\n",
       "  'title': 'Terrifier 3',\n",
       "  'video': False,\n",
       "  'vote_average': 0,\n",
       "  'vote_count': 0},\n",
       " {'adult': False,\n",
       "  'backdrop_path': '/2SEGjVLy7fYbovIyDR7IntH1jT2.jpg',\n",
       "  'genre_ids': [27, 9648, 53],\n",
       "  'id': 913290,\n",
       "  'original_language': 'en',\n",
       "  'original_title': 'Barbarian',\n",
       "  'overview': 'In town for a job interview, a young woman arrives at her Airbnb late at night only to find that it has been mistakenly double-booked and a strange man is already staying there. Against her better judgement, she decides to stay the night anyway, but soon discovers that there is much more to be afraid of in the house than the other guest.',\n",
       "  'popularity': 782.047,\n",
       "  'poster_path': '/idT5mnqPcJgSkvpDX7pJffBzdVH.jpg',\n",
       "  'release_date': '2022-09-08',\n",
       "  'title': 'Barbarian',\n",
       "  'video': False,\n",
       "  'vote_average': 7,\n",
       "  'vote_count': 497},\n",
       " {'adult': False,\n",
       "  'backdrop_path': '/2k9tBql5GYH328Krj66tDT9LtFZ.jpg',\n",
       "  'genre_ids': [53, 12, 27],\n",
       "  'id': 760741,\n",
       "  'original_language': 'en',\n",
       "  'original_title': 'Beast',\n",
       "  'overview': 'A recently widowed man and his two teenage daughters travel to a game reserve in South Africa. However, their journey of healing soon turns into a fight for survival when a bloodthirsty lion starts to stalk them.',\n",
       "  'popularity': 780.139,\n",
       "  'poster_path': '/xIGr7UHsKf0URWmyyd5qFMAq4d8.jpg',\n",
       "  'release_date': '2022-08-11',\n",
       "  'title': 'Beast',\n",
       "  'video': False,\n",
       "  'vote_average': 7,\n",
       "  'vote_count': 738},\n",
       " {'adult': False,\n",
       "  'backdrop_path': '/y59qFOlmRKfRKIWzxuzUf0mDc4G.jpg',\n",
       "  'genre_ids': [27],\n",
       "  'id': 1024530,\n",
       "  'original_language': 'en',\n",
       "  'original_title': 'Grimcutty',\n",
       "  'overview': 'A suburban teen girl and her little brother must stop a terrifying internet meme brought to life by the hysteria of their parents.',\n",
       "  'popularity': 773.157,\n",
       "  'poster_path': '/qvg75YJMfbHeDNirUrrgBMQImRn.jpg',\n",
       "  'release_date': '2022-10-10',\n",
       "  'title': 'Grimcutty',\n",
       "  'video': False,\n",
       "  'vote_average': 5.6,\n",
       "  'vote_count': 187},\n",
       " {'adult': False,\n",
       "  'backdrop_path': '/kdOfq5ImruKCJDEqASuuXlrj9LM.jpg',\n",
       "  'genre_ids': [27, 18, 36],\n",
       "  'id': 883083,\n",
       "  'original_language': 'mk',\n",
       "  'original_title': \"You Won't Be Alone\",\n",
       "  'overview': \"In an isolated mountain village in 19th century Macedonia, a young feral witch accidentally kills a peasant. She assumes the peasant's shape to see what life is like in her skin, igniting a deep seated curiosity to experience life inside the bodies of others.\",\n",
       "  'popularity': 678.31,\n",
       "  'poster_path': '/kJ1bSR2T16yzgRMSySpbAJzF3rM.jpg',\n",
       "  'release_date': '2022-04-01',\n",
       "  'title': \"You Won't Be Alone\",\n",
       "  'video': False,\n",
       "  'vote_average': 6.6,\n",
       "  'vote_count': 129},\n",
       " {'adult': False,\n",
       "  'backdrop_path': '/23sJzwaYazdzqnp2gm6GAQk4sCc.jpg',\n",
       "  'genre_ids': [27, 53],\n",
       "  'id': 969160,\n",
       "  'original_language': 'en',\n",
       "  'original_title': 'Deinfluencer',\n",
       "  'overview': 'An influential cheerleader finds herself held captive by a masked psychopath with a God complex. She must complete a series of sadistic social media challenges to save her life and the lives of her fellow captives. However, the masked kidnapper has a secret agenda for his most recent victim.',\n",
       "  'popularity': 677.356,\n",
       "  'poster_path': '/gLnrBoSENk32SKjHDiZv7E4zwzK.jpg',\n",
       "  'release_date': '2022-10-01',\n",
       "  'title': 'Deinfluencer',\n",
       "  'video': False,\n",
       "  'vote_average': 4,\n",
       "  'vote_count': 2},\n",
       " {'adult': False,\n",
       "  'backdrop_path': '/o8tThg5KqX3t32vbAIxNuS8Fmlj.jpg',\n",
       "  'genre_ids': [27, 53],\n",
       "  'id': 1005776,\n",
       "  'original_language': 'en',\n",
       "  'original_title': 'V/H/S/99',\n",
       "  'overview': 'A teenager’s home video leads to a series of horrifying revelations.',\n",
       "  'popularity': 667.477,\n",
       "  'poster_path': '/1bOMmFtnykBmvhFcx8zdXO6bCAa.jpg',\n",
       "  'release_date': '2022-09-15',\n",
       "  'title': 'V/H/S/99',\n",
       "  'video': False,\n",
       "  'vote_average': 6.2,\n",
       "  'vote_count': 54},\n",
       " {'adult': False,\n",
       "  'backdrop_path': '/AfvIjhDu9p64jKcmohS4hsPG95Q.jpg',\n",
       "  'genre_ids': [27, 53],\n",
       "  'id': 756999,\n",
       "  'original_language': 'en',\n",
       "  'original_title': 'The Black Phone',\n",
       "  'overview': 'Finney Blake, a shy but clever 13-year-old boy, is abducted by a sadistic killer and trapped in a soundproof basement where screaming is of little use. When a disconnected phone on the wall begins to ring, Finney discovers that he can hear the voices of the killer’s previous victims. And they are dead set on making sure that what happened to them doesn’t happen to Finney.',\n",
       "  'popularity': 660.499,\n",
       "  'poster_path': '/lr11mCT85T1JanlgjMuhs9nMht4.jpg',\n",
       "  'release_date': '2022-06-22',\n",
       "  'title': 'The Black Phone',\n",
       "  'video': False,\n",
       "  'vote_average': 7.9,\n",
       "  'vote_count': 2999},\n",
       " {'adult': False,\n",
       "  'backdrop_path': '/xXSjMjCdZ6v7NIFvsSMNqe4ySkF.jpg',\n",
       "  'genre_ids': [27],\n",
       "  'id': 1032950,\n",
       "  'original_language': 'pl',\n",
       "  'original_title': 'Ostatnia Wieczerza',\n",
       "  'overview': 'In a monastery cut off from the world, the monks run a clinic for the possessed. One day, a young policeman Marek comes to the convent. Posing as a clergyman, he penetrates monastic life and tries to explain the recent, mysterious disappearance of several tormented inmates. It turns out, however, that there is no way out of the monastery.',\n",
       "  'popularity': 575.45,\n",
       "  'poster_path': '/y47wBamj9vdqBeGaLEFTrYEPTeC.jpg',\n",
       "  'release_date': '2022-10-26',\n",
       "  'title': 'Hellhole',\n",
       "  'video': False,\n",
       "  'vote_average': 6.2,\n",
       "  'vote_count': 76},\n",
       " {'adult': False,\n",
       "  'backdrop_path': '/cuAUhb0aYQ9PsdU7EN3L2p1d3Ox.jpg',\n",
       "  'genre_ids': [12, 35, 27, 10751],\n",
       "  'id': 864959,\n",
       "  'original_language': 'en',\n",
       "  'original_title': 'The Curse of Bridge Hollow',\n",
       "  'overview': \"A Halloween-hating dad reluctantly teams up with his teenage daughter when an evil spirit wreaks havoc by making their town's decorations come to life.\",\n",
       "  'popularity': 520.954,\n",
       "  'poster_path': '/t6P9l6tcVnWLS1ADUAfkUCGQhm0.jpg',\n",
       "  'release_date': '2022-10-14',\n",
       "  'title': 'The Curse of Bridge Hollow',\n",
       "  'video': False,\n",
       "  'vote_average': 7,\n",
       "  'vote_count': 256},\n",
       " {'adult': False,\n",
       "  'backdrop_path': '/1V9IdXG5e9GF8kic6uVHGpTyJxa.jpg',\n",
       "  'genre_ids': [27, 14, 12, 10751],\n",
       "  'id': 961427,\n",
       "  'original_language': 'en',\n",
       "  'original_title': 'Spirit Halloween: The Movie',\n",
       "  'overview': 'A group of middle schoolers discover a Spirit Halloween store is haunted and must survive the night.',\n",
       "  'popularity': 483.507,\n",
       "  'poster_path': '/akWDID6zfsWHJhGCAAcbwbytU55.jpg',\n",
       "  'release_date': '2022-09-30',\n",
       "  'title': 'Spirit Halloween: The Movie',\n",
       "  'video': False,\n",
       "  'vote_average': 6.8,\n",
       "  'vote_count': 20}]"
      ]
     },
     "execution_count": 5,
     "metadata": {},
     "output_type": "execute_result"
    }
   ],
   "source": [
    "json[\"results\"]"
   ]
  },
  {
   "cell_type": "code",
   "execution_count": 6,
   "id": "83967e36",
   "metadata": {
    "scrolled": false
   },
   "outputs": [
    {
     "data": {
      "text/plain": [
       "1796"
      ]
     },
     "execution_count": 6,
     "metadata": {},
     "output_type": "execute_result"
    }
   ],
   "source": [
    "Total_no_pages=json[\"total_pages\"]\n",
    "Total_no_pages"
   ]
  },
  {
   "cell_type": "markdown",
   "id": "9cfeeaa7",
   "metadata": {},
   "source": [
    "## Loading dataset in an appropriate representation.\n",
    "### Creating Function to fetch and save json data into Dataframe"
   ]
  },
  {
   "cell_type": "code",
   "execution_count": 7,
   "id": "6bd5eb4d",
   "metadata": {},
   "outputs": [],
   "source": [
    "def FetchAndCreateDF():\n",
    "    df=pd.DataFrame()\n",
    "    if Total_no_pages>=10:\n",
    "        for i in range(10):\n",
    "            num =i+1\n",
    "            url=\"https://api.themoviedb.org/3/discover/movie?api_key=\"+api_key+\"&language=en-US&page=\"+str(num)+\"&with_genres=27\"\n",
    "            req = requests.get(url)\n",
    "            json = req.json()\n",
    "            df1 = pd.DataFrame.from_dict(json['results'])\n",
    "            df= pd.concat([df, df1])\n",
    "            \n",
    "    return df\n"
   ]
  },
  {
   "cell_type": "code",
   "execution_count": 8,
   "id": "1c2567bd",
   "metadata": {},
   "outputs": [],
   "source": [
    "df = FetchAndCreateDF()"
   ]
  },
  {
   "cell_type": "markdown",
   "id": "52bca5b4",
   "metadata": {},
   "source": [
    "# STORING MY DATA IN CSV"
   ]
  },
  {
   "cell_type": "code",
   "execution_count": 9,
   "id": "92796cb1",
   "metadata": {},
   "outputs": [],
   "source": [
    "df.to_csv (r\"C:\\Users\\vijay\\OneDrive\\Desktop\\SEM 1\\networks\\DATAFRAME2.csv\", index = False, header=True)"
   ]
  },
  {
   "cell_type": "markdown",
   "id": "b7715bc3",
   "metadata": {},
   "source": [
    "#                             DATA PRE-PROCESSING\n",
    "#                                          PART - 1\n",
    "## Data pre-processing, including cleaning, filtering, and transformation of the data before analysis."
   ]
  },
  {
   "cell_type": "code",
   "execution_count": 10,
   "id": "c2e438b0",
   "metadata": {},
   "outputs": [
    {
     "data": {
      "text/plain": [
       "(200, 14)"
      ]
     },
     "execution_count": 10,
     "metadata": {},
     "output_type": "execute_result"
    }
   ],
   "source": [
    "df.shape"
   ]
  },
  {
   "cell_type": "markdown",
   "id": "9c257885",
   "metadata": {},
   "source": [
    "We have Dataframe with 200 rows and 14 columns"
   ]
  },
  {
   "cell_type": "markdown",
   "id": "5fecb51d",
   "metadata": {},
   "source": [
    "\n",
    "\n",
    "#### removing index "
   ]
  },
  {
   "cell_type": "code",
   "execution_count": 11,
   "id": "963779b0",
   "metadata": {},
   "outputs": [
    {
     "data": {
      "text/html": [
       "<div>\n",
       "<style scoped>\n",
       "    .dataframe tbody tr th:only-of-type {\n",
       "        vertical-align: middle;\n",
       "    }\n",
       "\n",
       "    .dataframe tbody tr th {\n",
       "        vertical-align: top;\n",
       "    }\n",
       "\n",
       "    .dataframe thead th {\n",
       "        text-align: right;\n",
       "    }\n",
       "</style>\n",
       "<table border=\"1\" class=\"dataframe\">\n",
       "  <thead>\n",
       "    <tr style=\"text-align: right;\">\n",
       "      <th></th>\n",
       "      <th>adult</th>\n",
       "      <th>backdrop_path</th>\n",
       "      <th>genre_ids</th>\n",
       "      <th>id</th>\n",
       "      <th>original_language</th>\n",
       "      <th>original_title</th>\n",
       "      <th>overview</th>\n",
       "      <th>popularity</th>\n",
       "      <th>poster_path</th>\n",
       "      <th>release_date</th>\n",
       "      <th>title</th>\n",
       "      <th>video</th>\n",
       "      <th>vote_average</th>\n",
       "      <th>vote_count</th>\n",
       "    </tr>\n",
       "  </thead>\n",
       "  <tbody>\n",
       "    <tr>\n",
       "      <th>0</th>\n",
       "      <td>False</td>\n",
       "      <td>/y5Z0WesTjvn59jP6yo459eUsbli.jpg</td>\n",
       "      <td>[27, 53]</td>\n",
       "      <td>663712</td>\n",
       "      <td>en</td>\n",
       "      <td>Terrifier 2</td>\n",
       "      <td>After being resurrected by a sinister entity, ...</td>\n",
       "      <td>8396.618</td>\n",
       "      <td>/b6IRp6Pl2Fsq37r9jFhGoLtaqHm.jpg</td>\n",
       "      <td>2022-10-06</td>\n",
       "      <td>Terrifier 2</td>\n",
       "      <td>False</td>\n",
       "      <td>7.1</td>\n",
       "      <td>370</td>\n",
       "    </tr>\n",
       "    <tr>\n",
       "      <th>1</th>\n",
       "      <td>False</td>\n",
       "      <td>/naNXYdBzTEb1KwOdi1RbBkM9Zv1.jpg</td>\n",
       "      <td>[27, 53]</td>\n",
       "      <td>420634</td>\n",
       "      <td>en</td>\n",
       "      <td>Terrifier</td>\n",
       "      <td>On Halloween night, a young woman finds hersel...</td>\n",
       "      <td>3457.049</td>\n",
       "      <td>/6PQqC4SbY910VvyVad6mvsboILU.jpg</td>\n",
       "      <td>2016-10-15</td>\n",
       "      <td>Terrifier</td>\n",
       "      <td>False</td>\n",
       "      <td>6.5</td>\n",
       "      <td>838</td>\n",
       "    </tr>\n",
       "    <tr>\n",
       "      <th>2</th>\n",
       "      <td>False</td>\n",
       "      <td>/bJa3RcFKgtVKJqTJCSSuBQeP9c8.jpg</td>\n",
       "      <td>[27]</td>\n",
       "      <td>86328</td>\n",
       "      <td>en</td>\n",
       "      <td>Terrifier</td>\n",
       "      <td>After witnessing a brutal murder on Halloween ...</td>\n",
       "      <td>2445.841</td>\n",
       "      <td>/gb6rq2nD0jRrN0dCzigg2MxXNsB.jpg</td>\n",
       "      <td>2011-08-09</td>\n",
       "      <td>Terrifier</td>\n",
       "      <td>False</td>\n",
       "      <td>6.6</td>\n",
       "      <td>39</td>\n",
       "    </tr>\n",
       "    <tr>\n",
       "      <th>3</th>\n",
       "      <td>False</td>\n",
       "      <td>/tIX6j3NzadlwGcJ52nuWdmtOQkg.jpg</td>\n",
       "      <td>[27, 53, 9648]</td>\n",
       "      <td>717728</td>\n",
       "      <td>en</td>\n",
       "      <td>Jeepers Creepers: Reborn</td>\n",
       "      <td>Forced to travel with her boyfriend to a horro...</td>\n",
       "      <td>1927.044</td>\n",
       "      <td>/aGBuiirBIQ7o64FmJxO53eYDuro.jpg</td>\n",
       "      <td>2022-09-15</td>\n",
       "      <td>Jeepers Creepers: Reborn</td>\n",
       "      <td>False</td>\n",
       "      <td>5.7</td>\n",
       "      <td>413</td>\n",
       "    </tr>\n",
       "    <tr>\n",
       "      <th>4</th>\n",
       "      <td>False</td>\n",
       "      <td>/5GA3vV1aWWHTSDO5eno8V5zDo8r.jpg</td>\n",
       "      <td>[27, 53]</td>\n",
       "      <td>760161</td>\n",
       "      <td>en</td>\n",
       "      <td>Orphan: First Kill</td>\n",
       "      <td>After escaping from an Estonian psychiatric fa...</td>\n",
       "      <td>1649.832</td>\n",
       "      <td>/pHkKbIRoCe7zIFvqan9LFSaQAde.jpg</td>\n",
       "      <td>2022-07-27</td>\n",
       "      <td>Orphan: First Kill</td>\n",
       "      <td>False</td>\n",
       "      <td>6.8</td>\n",
       "      <td>1216</td>\n",
       "    </tr>\n",
       "  </tbody>\n",
       "</table>\n",
       "</div>"
      ],
      "text/plain": [
       "   adult                     backdrop_path       genre_ids      id  \\\n",
       "0  False  /y5Z0WesTjvn59jP6yo459eUsbli.jpg        [27, 53]  663712   \n",
       "1  False  /naNXYdBzTEb1KwOdi1RbBkM9Zv1.jpg        [27, 53]  420634   \n",
       "2  False  /bJa3RcFKgtVKJqTJCSSuBQeP9c8.jpg            [27]   86328   \n",
       "3  False  /tIX6j3NzadlwGcJ52nuWdmtOQkg.jpg  [27, 53, 9648]  717728   \n",
       "4  False  /5GA3vV1aWWHTSDO5eno8V5zDo8r.jpg        [27, 53]  760161   \n",
       "\n",
       "  original_language            original_title  \\\n",
       "0                en               Terrifier 2   \n",
       "1                en                 Terrifier   \n",
       "2                en                 Terrifier   \n",
       "3                en  Jeepers Creepers: Reborn   \n",
       "4                en        Orphan: First Kill   \n",
       "\n",
       "                                            overview  popularity  \\\n",
       "0  After being resurrected by a sinister entity, ...    8396.618   \n",
       "1  On Halloween night, a young woman finds hersel...    3457.049   \n",
       "2  After witnessing a brutal murder on Halloween ...    2445.841   \n",
       "3  Forced to travel with her boyfriend to a horro...    1927.044   \n",
       "4  After escaping from an Estonian psychiatric fa...    1649.832   \n",
       "\n",
       "                        poster_path release_date                     title  \\\n",
       "0  /b6IRp6Pl2Fsq37r9jFhGoLtaqHm.jpg   2022-10-06               Terrifier 2   \n",
       "1  /6PQqC4SbY910VvyVad6mvsboILU.jpg   2016-10-15                 Terrifier   \n",
       "2  /gb6rq2nD0jRrN0dCzigg2MxXNsB.jpg   2011-08-09                 Terrifier   \n",
       "3  /aGBuiirBIQ7o64FmJxO53eYDuro.jpg   2022-09-15  Jeepers Creepers: Reborn   \n",
       "4  /pHkKbIRoCe7zIFvqan9LFSaQAde.jpg   2022-07-27        Orphan: First Kill   \n",
       "\n",
       "   video  vote_average  vote_count  \n",
       "0  False           7.1         370  \n",
       "1  False           6.5         838  \n",
       "2  False           6.6          39  \n",
       "3  False           5.7         413  \n",
       "4  False           6.8        1216  "
      ]
     },
     "execution_count": 11,
     "metadata": {},
     "output_type": "execute_result"
    }
   ],
   "source": [
    "df.reset_index()\n",
    "df.head()"
   ]
  },
  {
   "cell_type": "markdown",
   "id": "73f3f083",
   "metadata": {},
   "source": [
    "# checking the dimension of the data frame"
   ]
  },
  {
   "cell_type": "code",
   "execution_count": 12,
   "id": "64eca4a0",
   "metadata": {},
   "outputs": [
    {
     "data": {
      "text/plain": [
       "(200, 14)"
      ]
     },
     "execution_count": 12,
     "metadata": {},
     "output_type": "execute_result"
    }
   ],
   "source": [
    "df.shape"
   ]
  },
  {
   "cell_type": "code",
   "execution_count": 13,
   "id": "2f1e29ba",
   "metadata": {
    "scrolled": false
   },
   "outputs": [
    {
     "data": {
      "text/plain": [
       "adult                   bool\n",
       "backdrop_path         object\n",
       "genre_ids             object\n",
       "id                     int64\n",
       "original_language     object\n",
       "original_title        object\n",
       "overview              object\n",
       "popularity           float64\n",
       "poster_path           object\n",
       "release_date          object\n",
       "title                 object\n",
       "video                   bool\n",
       "vote_average         float64\n",
       "vote_count             int64\n",
       "dtype: object"
      ]
     },
     "execution_count": 13,
     "metadata": {},
     "output_type": "execute_result"
    }
   ],
   "source": [
    "df.dtypes"
   ]
  },
  {
   "cell_type": "markdown",
   "id": "b188b95f",
   "metadata": {},
   "source": [
    "# Changing to valid data type"
   ]
  },
  {
   "cell_type": "code",
   "execution_count": 14,
   "id": "0b0ba160",
   "metadata": {},
   "outputs": [],
   "source": [
    "df[\"release_date\"] = pd.to_datetime(df[\"release_date\"])"
   ]
  },
  {
   "cell_type": "code",
   "execution_count": 15,
   "id": "95605d1c",
   "metadata": {},
   "outputs": [
    {
     "data": {
      "text/plain": [
       "adult                          bool\n",
       "backdrop_path                object\n",
       "genre_ids                    object\n",
       "id                            int64\n",
       "original_language            object\n",
       "original_title               object\n",
       "overview                     object\n",
       "popularity                  float64\n",
       "poster_path                  object\n",
       "release_date         datetime64[ns]\n",
       "title                        object\n",
       "video                          bool\n",
       "vote_average                float64\n",
       "vote_count                    int64\n",
       "dtype: object"
      ]
     },
     "execution_count": 15,
     "metadata": {},
     "output_type": "execute_result"
    }
   ],
   "source": [
    "df.dtypes\n"
   ]
  },
  {
   "cell_type": "markdown",
   "id": "c0c36f43",
   "metadata": {},
   "source": [
    "# droping columns not required"
   ]
  },
  {
   "cell_type": "code",
   "execution_count": 16,
   "id": "44b6c60b",
   "metadata": {},
   "outputs": [
    {
     "data": {
      "text/html": [
       "<div>\n",
       "<style scoped>\n",
       "    .dataframe tbody tr th:only-of-type {\n",
       "        vertical-align: middle;\n",
       "    }\n",
       "\n",
       "    .dataframe tbody tr th {\n",
       "        vertical-align: top;\n",
       "    }\n",
       "\n",
       "    .dataframe thead th {\n",
       "        text-align: right;\n",
       "    }\n",
       "</style>\n",
       "<table border=\"1\" class=\"dataframe\">\n",
       "  <thead>\n",
       "    <tr style=\"text-align: right;\">\n",
       "      <th></th>\n",
       "      <th>adult</th>\n",
       "      <th>id</th>\n",
       "      <th>original_language</th>\n",
       "      <th>original_title</th>\n",
       "      <th>overview</th>\n",
       "      <th>popularity</th>\n",
       "      <th>release_date</th>\n",
       "      <th>vote_average</th>\n",
       "      <th>vote_count</th>\n",
       "    </tr>\n",
       "  </thead>\n",
       "  <tbody>\n",
       "    <tr>\n",
       "      <th>0</th>\n",
       "      <td>False</td>\n",
       "      <td>663712</td>\n",
       "      <td>en</td>\n",
       "      <td>Terrifier 2</td>\n",
       "      <td>After being resurrected by a sinister entity, ...</td>\n",
       "      <td>8396.618</td>\n",
       "      <td>2022-10-06</td>\n",
       "      <td>7.1</td>\n",
       "      <td>370</td>\n",
       "    </tr>\n",
       "    <tr>\n",
       "      <th>1</th>\n",
       "      <td>False</td>\n",
       "      <td>420634</td>\n",
       "      <td>en</td>\n",
       "      <td>Terrifier</td>\n",
       "      <td>On Halloween night, a young woman finds hersel...</td>\n",
       "      <td>3457.049</td>\n",
       "      <td>2016-10-15</td>\n",
       "      <td>6.5</td>\n",
       "      <td>838</td>\n",
       "    </tr>\n",
       "    <tr>\n",
       "      <th>2</th>\n",
       "      <td>False</td>\n",
       "      <td>86328</td>\n",
       "      <td>en</td>\n",
       "      <td>Terrifier</td>\n",
       "      <td>After witnessing a brutal murder on Halloween ...</td>\n",
       "      <td>2445.841</td>\n",
       "      <td>2011-08-09</td>\n",
       "      <td>6.6</td>\n",
       "      <td>39</td>\n",
       "    </tr>\n",
       "    <tr>\n",
       "      <th>3</th>\n",
       "      <td>False</td>\n",
       "      <td>717728</td>\n",
       "      <td>en</td>\n",
       "      <td>Jeepers Creepers: Reborn</td>\n",
       "      <td>Forced to travel with her boyfriend to a horro...</td>\n",
       "      <td>1927.044</td>\n",
       "      <td>2022-09-15</td>\n",
       "      <td>5.7</td>\n",
       "      <td>413</td>\n",
       "    </tr>\n",
       "    <tr>\n",
       "      <th>4</th>\n",
       "      <td>False</td>\n",
       "      <td>760161</td>\n",
       "      <td>en</td>\n",
       "      <td>Orphan: First Kill</td>\n",
       "      <td>After escaping from an Estonian psychiatric fa...</td>\n",
       "      <td>1649.832</td>\n",
       "      <td>2022-07-27</td>\n",
       "      <td>6.8</td>\n",
       "      <td>1216</td>\n",
       "    </tr>\n",
       "  </tbody>\n",
       "</table>\n",
       "</div>"
      ],
      "text/plain": [
       "   adult      id original_language            original_title  \\\n",
       "0  False  663712                en               Terrifier 2   \n",
       "1  False  420634                en                 Terrifier   \n",
       "2  False   86328                en                 Terrifier   \n",
       "3  False  717728                en  Jeepers Creepers: Reborn   \n",
       "4  False  760161                en        Orphan: First Kill   \n",
       "\n",
       "                                            overview  popularity release_date  \\\n",
       "0  After being resurrected by a sinister entity, ...    8396.618   2022-10-06   \n",
       "1  On Halloween night, a young woman finds hersel...    3457.049   2016-10-15   \n",
       "2  After witnessing a brutal murder on Halloween ...    2445.841   2011-08-09   \n",
       "3  Forced to travel with her boyfriend to a horro...    1927.044   2022-09-15   \n",
       "4  After escaping from an Estonian psychiatric fa...    1649.832   2022-07-27   \n",
       "\n",
       "   vote_average  vote_count  \n",
       "0           7.1         370  \n",
       "1           6.5         838  \n",
       "2           6.6          39  \n",
       "3           5.7         413  \n",
       "4           6.8        1216  "
      ]
     },
     "execution_count": 16,
     "metadata": {},
     "output_type": "execute_result"
    }
   ],
   "source": [
    "df.drop('poster_path', inplace=True, axis=1)\n",
    "df.drop('backdrop_path', inplace=True, axis=1)\n",
    "df.drop('genre_ids', inplace=True, axis=1)\n",
    "df.drop('title', inplace=True, axis=1)\n",
    "df.drop('video', inplace=True, axis=1)\n",
    "df.head()"
   ]
  },
  {
   "cell_type": "markdown",
   "id": "3b4dfa1c",
   "metadata": {},
   "source": [
    "# Rearranging the data frame "
   ]
  },
  {
   "cell_type": "code",
   "execution_count": 17,
   "id": "615912e3",
   "metadata": {
    "scrolled": false
   },
   "outputs": [
    {
     "data": {
      "text/plain": [
       "['adult',\n",
       " 'id',\n",
       " 'original_language',\n",
       " 'original_title',\n",
       " 'overview',\n",
       " 'popularity',\n",
       " 'release_date',\n",
       " 'vote_average',\n",
       " 'vote_count']"
      ]
     },
     "execution_count": 17,
     "metadata": {},
     "output_type": "execute_result"
    }
   ],
   "source": [
    "cols = list(df.columns.values)\n",
    "cols"
   ]
  },
  {
   "cell_type": "code",
   "execution_count": 18,
   "id": "7b5fffa8",
   "metadata": {},
   "outputs": [
    {
     "name": "stdout",
     "output_type": "stream",
     "text": [
      "8\n"
     ]
    }
   ],
   "source": [
    "index = cols.index('vote_count')\n",
    "print(index)"
   ]
  },
  {
   "cell_type": "markdown",
   "id": "ede266ec",
   "metadata": {},
   "source": [
    "# Reordering Columns"
   ]
  },
  {
   "cell_type": "code",
   "execution_count": 19,
   "id": "1ce462d5",
   "metadata": {},
   "outputs": [
    {
     "data": {
      "text/plain": [
       "['release_date',\n",
       " 'original_title',\n",
       " 'id',\n",
       " 'original_language',\n",
       " 'overview',\n",
       " 'adult',\n",
       " 'vote_count',\n",
       " 'vote_average',\n",
       " 'popularity']"
      ]
     },
     "execution_count": 19,
     "metadata": {},
     "output_type": "execute_result"
    }
   ],
   "source": [
    "order=[6,3,1,2,4,0,8,7,5]\n",
    "cols=[cols[i] for i in order]\n",
    "cols\n",
    "\n"
   ]
  },
  {
   "cell_type": "code",
   "execution_count": 20,
   "id": "ddd83366",
   "metadata": {},
   "outputs": [
    {
     "data": {
      "text/html": [
       "<div>\n",
       "<style scoped>\n",
       "    .dataframe tbody tr th:only-of-type {\n",
       "        vertical-align: middle;\n",
       "    }\n",
       "\n",
       "    .dataframe tbody tr th {\n",
       "        vertical-align: top;\n",
       "    }\n",
       "\n",
       "    .dataframe thead th {\n",
       "        text-align: right;\n",
       "    }\n",
       "</style>\n",
       "<table border=\"1\" class=\"dataframe\">\n",
       "  <thead>\n",
       "    <tr style=\"text-align: right;\">\n",
       "      <th></th>\n",
       "      <th>release_date</th>\n",
       "      <th>original_title</th>\n",
       "      <th>id</th>\n",
       "      <th>original_language</th>\n",
       "      <th>overview</th>\n",
       "      <th>adult</th>\n",
       "      <th>vote_count</th>\n",
       "      <th>vote_average</th>\n",
       "      <th>popularity</th>\n",
       "    </tr>\n",
       "  </thead>\n",
       "  <tbody>\n",
       "    <tr>\n",
       "      <th>0</th>\n",
       "      <td>2022-10-06</td>\n",
       "      <td>Terrifier 2</td>\n",
       "      <td>663712</td>\n",
       "      <td>en</td>\n",
       "      <td>After being resurrected by a sinister entity, ...</td>\n",
       "      <td>False</td>\n",
       "      <td>370</td>\n",
       "      <td>7.1</td>\n",
       "      <td>8396.618</td>\n",
       "    </tr>\n",
       "    <tr>\n",
       "      <th>1</th>\n",
       "      <td>2016-10-15</td>\n",
       "      <td>Terrifier</td>\n",
       "      <td>420634</td>\n",
       "      <td>en</td>\n",
       "      <td>On Halloween night, a young woman finds hersel...</td>\n",
       "      <td>False</td>\n",
       "      <td>838</td>\n",
       "      <td>6.5</td>\n",
       "      <td>3457.049</td>\n",
       "    </tr>\n",
       "    <tr>\n",
       "      <th>2</th>\n",
       "      <td>2011-08-09</td>\n",
       "      <td>Terrifier</td>\n",
       "      <td>86328</td>\n",
       "      <td>en</td>\n",
       "      <td>After witnessing a brutal murder on Halloween ...</td>\n",
       "      <td>False</td>\n",
       "      <td>39</td>\n",
       "      <td>6.6</td>\n",
       "      <td>2445.841</td>\n",
       "    </tr>\n",
       "    <tr>\n",
       "      <th>3</th>\n",
       "      <td>2022-09-15</td>\n",
       "      <td>Jeepers Creepers: Reborn</td>\n",
       "      <td>717728</td>\n",
       "      <td>en</td>\n",
       "      <td>Forced to travel with her boyfriend to a horro...</td>\n",
       "      <td>False</td>\n",
       "      <td>413</td>\n",
       "      <td>5.7</td>\n",
       "      <td>1927.044</td>\n",
       "    </tr>\n",
       "    <tr>\n",
       "      <th>4</th>\n",
       "      <td>2022-07-27</td>\n",
       "      <td>Orphan: First Kill</td>\n",
       "      <td>760161</td>\n",
       "      <td>en</td>\n",
       "      <td>After escaping from an Estonian psychiatric fa...</td>\n",
       "      <td>False</td>\n",
       "      <td>1216</td>\n",
       "      <td>6.8</td>\n",
       "      <td>1649.832</td>\n",
       "    </tr>\n",
       "  </tbody>\n",
       "</table>\n",
       "</div>"
      ],
      "text/plain": [
       "  release_date            original_title      id original_language  \\\n",
       "0   2022-10-06               Terrifier 2  663712                en   \n",
       "1   2016-10-15                 Terrifier  420634                en   \n",
       "2   2011-08-09                 Terrifier   86328                en   \n",
       "3   2022-09-15  Jeepers Creepers: Reborn  717728                en   \n",
       "4   2022-07-27        Orphan: First Kill  760161                en   \n",
       "\n",
       "                                            overview  adult  vote_count  \\\n",
       "0  After being resurrected by a sinister entity, ...  False         370   \n",
       "1  On Halloween night, a young woman finds hersel...  False         838   \n",
       "2  After witnessing a brutal murder on Halloween ...  False          39   \n",
       "3  Forced to travel with her boyfriend to a horro...  False         413   \n",
       "4  After escaping from an Estonian psychiatric fa...  False        1216   \n",
       "\n",
       "   vote_average  popularity  \n",
       "0           7.1    8396.618  \n",
       "1           6.5    3457.049  \n",
       "2           6.6    2445.841  \n",
       "3           5.7    1927.044  \n",
       "4           6.8    1649.832  "
      ]
     },
     "execution_count": 20,
     "metadata": {},
     "output_type": "execute_result"
    }
   ],
   "source": [
    "df = df[cols]\n",
    "df.head()"
   ]
  },
  {
   "cell_type": "markdown",
   "id": "9ef607a8",
   "metadata": {},
   "source": [
    "# Checking for duplicates"
   ]
  },
  {
   "cell_type": "code",
   "execution_count": 21,
   "id": "823f8b08",
   "metadata": {},
   "outputs": [
    {
     "data": {
      "text/plain": [
       "0"
      ]
     },
     "execution_count": 21,
     "metadata": {},
     "output_type": "execute_result"
    }
   ],
   "source": [
    "df.duplicated().sum()"
   ]
  },
  {
   "cell_type": "code",
   "execution_count": 22,
   "id": "39dcd1a0",
   "metadata": {},
   "outputs": [
    {
     "data": {
      "text/plain": [
       "0"
      ]
     },
     "execution_count": 22,
     "metadata": {},
     "output_type": "execute_result"
    }
   ],
   "source": [
    "df=df.drop_duplicates(keep='first')\n",
    "df.duplicated().sum()"
   ]
  },
  {
   "cell_type": "markdown",
   "id": "7149c150",
   "metadata": {},
   "source": [
    "# Checking for Missing values\n"
   ]
  },
  {
   "cell_type": "code",
   "execution_count": 23,
   "id": "105b2a6f",
   "metadata": {},
   "outputs": [
    {
     "data": {
      "text/plain": [
       "release_date         1\n",
       "original_title       0\n",
       "id                   0\n",
       "original_language    0\n",
       "overview             0\n",
       "adult                0\n",
       "vote_count           0\n",
       "vote_average         0\n",
       "popularity           0\n",
       "dtype: int64"
      ]
     },
     "execution_count": 23,
     "metadata": {},
     "output_type": "execute_result"
    }
   ],
   "source": [
    "df.isnull().sum()\n"
   ]
  },
  {
   "cell_type": "code",
   "execution_count": 24,
   "id": "6c8e88ac",
   "metadata": {},
   "outputs": [
    {
     "data": {
      "text/plain": [
       "array(['2022-10-06T00:00:00.000000000', '2016-10-15T00:00:00.000000000',\n",
       "       '2011-08-09T00:00:00.000000000', '2022-09-15T00:00:00.000000000',\n",
       "       '2022-07-27T00:00:00.000000000', '2022-10-12T00:00:00.000000000',\n",
       "       '2022-10-07T00:00:00.000000000', '2022-10-26T00:00:00.000000000',\n",
       "       '2022-09-23T00:00:00.000000000',                           'NaT',\n",
       "       '2022-09-08T00:00:00.000000000', '2022-08-11T00:00:00.000000000',\n",
       "       '2022-10-10T00:00:00.000000000', '2022-04-01T00:00:00.000000000',\n",
       "       '2022-10-01T00:00:00.000000000', '2022-06-22T00:00:00.000000000',\n",
       "       '2022-10-14T00:00:00.000000000', '2022-09-30T00:00:00.000000000',\n",
       "       '2022-02-24T00:00:00.000000000', '2022-09-27T00:00:00.000000000',\n",
       "       '2019-09-04T00:00:00.000000000', '2007-08-31T00:00:00.000000000',\n",
       "       '2022-07-20T00:00:00.000000000', '2021-10-14T00:00:00.000000000',\n",
       "       '2022-03-11T00:00:00.000000000', '2022-08-10T00:00:00.000000000',\n",
       "       '2021-06-30T00:00:00.000000000', '2022-09-25T00:00:00.000000000',\n",
       "       '2022-08-18T00:00:00.000000000', '2022-09-05T00:00:00.000000000',\n",
       "       '2022-01-12T00:00:00.000000000', '2022-03-17T00:00:00.000000000',\n",
       "       '2021-05-25T00:00:00.000000000', '2018-07-04T00:00:00.000000000',\n",
       "       '2022-01-28T00:00:00.000000000', '2022-10-05T00:00:00.000000000',\n",
       "       '2021-11-24T00:00:00.000000000', '2022-09-07T00:00:00.000000000',\n",
       "       '2016-06-29T00:00:00.000000000', '1998-10-16T00:00:00.000000000',\n",
       "       '2018-10-18T00:00:00.000000000', '2018-05-03T00:00:00.000000000',\n",
       "       '2013-07-18T00:00:00.000000000', '2022-08-24T00:00:00.000000000',\n",
       "       '2021-10-01T00:00:00.000000000', '2022-03-18T00:00:00.000000000',\n",
       "       '2022-08-13T00:00:00.000000000', '2022-02-18T00:00:00.000000000',\n",
       "       '2022-09-09T00:00:00.000000000', '2022-04-21T00:00:00.000000000',\n",
       "       '2022-02-25T00:00:00.000000000', '2022-03-25T00:00:00.000000000',\n",
       "       '2022-05-13T00:00:00.000000000', '2009-07-24T00:00:00.000000000',\n",
       "       '2004-11-12T00:00:00.000000000', '2000-03-17T00:00:00.000000000',\n",
       "       '2021-03-31T00:00:00.000000000', '2016-06-08T00:00:00.000000000',\n",
       "       '2022-04-15T00:00:00.000000000', '2005-06-07T00:00:00.000000000',\n",
       "       '2018-09-05T00:00:00.000000000', '2022-03-24T00:00:00.000000000',\n",
       "       '1988-11-09T00:00:00.000000000', '2013-05-31T00:00:00.000000000',\n",
       "       '2017-09-06T00:00:00.000000000', '2022-10-23T00:00:00.000000000',\n",
       "       '2021-06-28T00:00:00.000000000', '2009-10-20T00:00:00.000000000',\n",
       "       '2013-06-20T00:00:00.000000000', '2023-02-15T00:00:00.000000000',\n",
       "       '2011-07-30T00:00:00.000000000', '2021-05-21T00:00:00.000000000',\n",
       "       '2022-01-14T00:00:00.000000000', '2014-07-17T00:00:00.000000000',\n",
       "       '2022-09-29T00:00:00.000000000', '2021-08-12T00:00:00.000000000',\n",
       "       '2022-01-21T00:00:00.000000000', '2021-09-03T00:00:00.000000000',\n",
       "       '2017-09-26T00:00:00.000000000', '1978-10-24T00:00:00.000000000',\n",
       "       '2022-09-22T00:00:00.000000000', '1973-12-26T00:00:00.000000000',\n",
       "       '2003-08-08T00:00:00.000000000', '2020-07-09T00:00:00.000000000',\n",
       "       '2021-07-25T00:00:00.000000000', '1990-11-09T00:00:00.000000000',\n",
       "       '2022-05-20T00:00:00.000000000', '1988-10-21T00:00:00.000000000',\n",
       "       '2007-08-25T00:00:00.000000000', '2017-10-12T00:00:00.000000000',\n",
       "       '2019-04-17T00:00:00.000000000', '2020-10-08T00:00:00.000000000',\n",
       "       '2001-07-01T00:00:00.000000000', '2010-01-21T00:00:00.000000000',\n",
       "       '2014-05-03T00:00:00.000000000', '2022-09-28T00:00:00.000000000',\n",
       "       '2021-12-02T00:00:00.000000000', '2021-07-21T00:00:00.000000000',\n",
       "       '1991-08-30T00:00:00.000000000', '2022-04-22T00:00:00.000000000',\n",
       "       '2019-07-25T00:00:00.000000000', '2014-04-17T00:00:00.000000000',\n",
       "       '2021-06-15T00:00:00.000000000', '2019-06-26T00:00:00.000000000',\n",
       "       '2012-10-23T00:00:00.000000000', '2013-01-11T00:00:00.000000000',\n",
       "       '2022-02-05T00:00:00.000000000', '2018-08-09T00:00:00.000000000',\n",
       "       '2003-01-31T00:00:00.000000000', '2022-09-16T00:00:00.000000000',\n",
       "       '2009-09-04T00:00:00.000000000', '2021-09-01T00:00:00.000000000',\n",
       "       '2021-10-29T00:00:00.000000000', '2017-08-03T00:00:00.000000000',\n",
       "       '2007-10-26T00:00:00.000000000', '2003-05-30T00:00:00.000000000',\n",
       "       '2021-01-26T00:00:00.000000000', '2010-09-13T00:00:00.000000000',\n",
       "       '2013-10-08T00:00:00.000000000', '2002-06-21T00:00:00.000000000',\n",
       "       '2004-10-01T00:00:00.000000000', '2011-08-12T00:00:00.000000000',\n",
       "       '2014-08-25T00:00:00.000000000', '2023-09-07T00:00:00.000000000',\n",
       "       '2020-12-04T00:00:00.000000000', '2012-06-20T00:00:00.000000000',\n",
       "       '2021-05-14T00:00:00.000000000', '2021-07-14T00:00:00.000000000',\n",
       "       '2003-08-15T00:00:00.000000000', '2019-10-10T00:00:00.000000000',\n",
       "       '2022-06-03T00:00:00.000000000', '1989-10-12T00:00:00.000000000',\n",
       "       '2011-10-17T00:00:00.000000000', '2006-02-09T00:00:00.000000000',\n",
       "       '2013-10-29T00:00:00.000000000', '2005-02-08T00:00:00.000000000',\n",
       "       '1995-09-29T00:00:00.000000000', '2016-07-20T00:00:00.000000000',\n",
       "       '2021-06-11T00:00:00.000000000', '2021-02-11T00:00:00.000000000',\n",
       "       '1980-05-09T00:00:00.000000000', '2006-04-21T00:00:00.000000000',\n",
       "       '2013-01-14T00:00:00.000000000', '2022-10-28T00:00:00.000000000',\n",
       "       '2009-08-28T00:00:00.000000000', '2017-05-09T00:00:00.000000000',\n",
       "       '2023-01-06T00:00:00.000000000', '2022-11-02T00:00:00.000000000',\n",
       "       '2014-10-02T00:00:00.000000000', '2022-05-09T00:00:00.000000000',\n",
       "       '2021-10-28T00:00:00.000000000', '2021-07-29T00:00:00.000000000',\n",
       "       '2009-10-07T00:00:00.000000000', '2013-01-17T00:00:00.000000000',\n",
       "       '2009-02-11T00:00:00.000000000', '2015-08-01T00:00:00.000000000',\n",
       "       '2009-08-26T00:00:00.000000000', '2020-05-12T00:00:00.000000000',\n",
       "       '2003-05-21T00:00:00.000000000', '2002-07-01T00:00:00.000000000',\n",
       "       '2015-10-23T00:00:00.000000000', '2021-05-26T00:00:00.000000000',\n",
       "       '2021-09-15T00:00:00.000000000', '2007-03-16T00:00:00.000000000',\n",
       "       '2022-04-06T00:00:00.000000000', '2022-01-23T00:00:00.000000000',\n",
       "       '2016-11-15T00:00:00.000000000', '2012-01-19T00:00:00.000000000',\n",
       "       '2021-05-12T00:00:00.000000000', '2015-09-01T00:00:00.000000000',\n",
       "       '2006-10-05T00:00:00.000000000', '2019-10-09T00:00:00.000000000',\n",
       "       '2012-10-10T00:00:00.000000000', '2021-07-08T00:00:00.000000000',\n",
       "       '2010-06-17T00:00:00.000000000', '2012-03-29T00:00:00.000000000',\n",
       "       '2021-10-27T00:00:00.000000000', '2005-10-28T00:00:00.000000000',\n",
       "       '1981-10-30T00:00:00.000000000', '1976-01-10T00:00:00.000000000',\n",
       "       '1981-09-10T00:00:00.000000000', '2002-11-04T00:00:00.000000000'],\n",
       "      dtype='datetime64[ns]')"
      ]
     },
     "execution_count": 24,
     "metadata": {},
     "output_type": "execute_result"
    }
   ],
   "source": [
    " df['release_date'].unique()"
   ]
  },
  {
   "cell_type": "markdown",
   "id": "e78b085e",
   "metadata": {},
   "source": [
    "# droping missing values"
   ]
  },
  {
   "cell_type": "code",
   "execution_count": 25,
   "id": "96beb0f3",
   "metadata": {},
   "outputs": [],
   "source": [
    "df.dropna(subset=['release_date'], inplace=True)"
   ]
  },
  {
   "cell_type": "code",
   "execution_count": 26,
   "id": "a258dd13",
   "metadata": {},
   "outputs": [
    {
     "data": {
      "text/plain": [
       "release_date         0\n",
       "original_title       0\n",
       "id                   0\n",
       "original_language    0\n",
       "overview             0\n",
       "adult                0\n",
       "vote_count           0\n",
       "vote_average         0\n",
       "popularity           0\n",
       "dtype: int64"
      ]
     },
     "execution_count": 26,
     "metadata": {},
     "output_type": "execute_result"
    }
   ],
   "source": [
    "df.isnull().sum()"
   ]
  },
  {
   "cell_type": "markdown",
   "id": "b59921c0",
   "metadata": {},
   "source": [
    "## Data characterisation, summarisation, and analysis via of the data tables and visualisations "
   ]
  },
  {
   "cell_type": "markdown",
   "id": "faa599b8",
   "metadata": {},
   "source": [
    "# Sorting My data(using popularity column) to get the top 5 movies  "
   ]
  },
  {
   "cell_type": "code",
   "execution_count": 27,
   "id": "61243c64",
   "metadata": {
    "scrolled": true
   },
   "outputs": [
    {
     "data": {
      "text/html": [
       "<div>\n",
       "<style scoped>\n",
       "    .dataframe tbody tr th:only-of-type {\n",
       "        vertical-align: middle;\n",
       "    }\n",
       "\n",
       "    .dataframe tbody tr th {\n",
       "        vertical-align: top;\n",
       "    }\n",
       "\n",
       "    .dataframe thead th {\n",
       "        text-align: right;\n",
       "    }\n",
       "</style>\n",
       "<table border=\"1\" class=\"dataframe\">\n",
       "  <thead>\n",
       "    <tr style=\"text-align: right;\">\n",
       "      <th></th>\n",
       "      <th>release_date</th>\n",
       "      <th>original_title</th>\n",
       "      <th>id</th>\n",
       "      <th>original_language</th>\n",
       "      <th>overview</th>\n",
       "      <th>adult</th>\n",
       "      <th>vote_count</th>\n",
       "      <th>vote_average</th>\n",
       "      <th>popularity</th>\n",
       "    </tr>\n",
       "  </thead>\n",
       "  <tbody>\n",
       "    <tr>\n",
       "      <th>0</th>\n",
       "      <td>2022-10-06</td>\n",
       "      <td>Terrifier 2</td>\n",
       "      <td>663712</td>\n",
       "      <td>en</td>\n",
       "      <td>After being resurrected by a sinister entity, ...</td>\n",
       "      <td>False</td>\n",
       "      <td>370</td>\n",
       "      <td>7.1</td>\n",
       "      <td>8396.618</td>\n",
       "    </tr>\n",
       "    <tr>\n",
       "      <th>1</th>\n",
       "      <td>2016-10-15</td>\n",
       "      <td>Terrifier</td>\n",
       "      <td>420634</td>\n",
       "      <td>en</td>\n",
       "      <td>On Halloween night, a young woman finds hersel...</td>\n",
       "      <td>False</td>\n",
       "      <td>838</td>\n",
       "      <td>6.5</td>\n",
       "      <td>3457.049</td>\n",
       "    </tr>\n",
       "    <tr>\n",
       "      <th>2</th>\n",
       "      <td>2011-08-09</td>\n",
       "      <td>Terrifier</td>\n",
       "      <td>86328</td>\n",
       "      <td>en</td>\n",
       "      <td>After witnessing a brutal murder on Halloween ...</td>\n",
       "      <td>False</td>\n",
       "      <td>39</td>\n",
       "      <td>6.6</td>\n",
       "      <td>2445.841</td>\n",
       "    </tr>\n",
       "    <tr>\n",
       "      <th>3</th>\n",
       "      <td>2022-09-15</td>\n",
       "      <td>Jeepers Creepers: Reborn</td>\n",
       "      <td>717728</td>\n",
       "      <td>en</td>\n",
       "      <td>Forced to travel with her boyfriend to a horro...</td>\n",
       "      <td>False</td>\n",
       "      <td>413</td>\n",
       "      <td>5.7</td>\n",
       "      <td>1927.044</td>\n",
       "    </tr>\n",
       "    <tr>\n",
       "      <th>4</th>\n",
       "      <td>2022-07-27</td>\n",
       "      <td>Orphan: First Kill</td>\n",
       "      <td>760161</td>\n",
       "      <td>en</td>\n",
       "      <td>After escaping from an Estonian psychiatric fa...</td>\n",
       "      <td>False</td>\n",
       "      <td>1216</td>\n",
       "      <td>6.8</td>\n",
       "      <td>1649.832</td>\n",
       "    </tr>\n",
       "  </tbody>\n",
       "</table>\n",
       "</div>"
      ],
      "text/plain": [
       "  release_date            original_title      id original_language  \\\n",
       "0   2022-10-06               Terrifier 2  663712                en   \n",
       "1   2016-10-15                 Terrifier  420634                en   \n",
       "2   2011-08-09                 Terrifier   86328                en   \n",
       "3   2022-09-15  Jeepers Creepers: Reborn  717728                en   \n",
       "4   2022-07-27        Orphan: First Kill  760161                en   \n",
       "\n",
       "                                            overview  adult  vote_count  \\\n",
       "0  After being resurrected by a sinister entity, ...  False         370   \n",
       "1  On Halloween night, a young woman finds hersel...  False         838   \n",
       "2  After witnessing a brutal murder on Halloween ...  False          39   \n",
       "3  Forced to travel with her boyfriend to a horro...  False         413   \n",
       "4  After escaping from an Estonian psychiatric fa...  False        1216   \n",
       "\n",
       "   vote_average  popularity  \n",
       "0           7.1    8396.618  \n",
       "1           6.5    3457.049  \n",
       "2           6.6    2445.841  \n",
       "3           5.7    1927.044  \n",
       "4           6.8    1649.832  "
      ]
     },
     "execution_count": 27,
     "metadata": {},
     "output_type": "execute_result"
    }
   ],
   "source": [
    "df.sort_values(by=['popularity'], ascending=False)\n",
    "TOP_MOVIES=df.head()\n",
    "TOP_MOVIES"
   ]
  },
  {
   "cell_type": "markdown",
   "id": "cf0ac48b",
   "metadata": {},
   "source": [
    "### Plotting Top Populated Movie"
   ]
  },
  {
   "cell_type": "code",
   "execution_count": 28,
   "id": "52639727",
   "metadata": {},
   "outputs": [
    {
     "data": {
      "image/png": "[encoded data removed]",
      "text/plain": [
       "<Figure size 432x288 with 1 Axes>"
      ]
     },
     "metadata": {
      "needs_background": "light"
     },
     "output_type": "display_data"
    }
   ],
   "source": [
    "\n",
    "ax=sns.barplot(x=\"original_title\",y=\"popularity\",data=TOP_MOVIES)"
   ]
  },
  {
   "cell_type": "markdown",
   "id": "17f79fd3",
   "metadata": {},
   "source": [
    "# Sorting My data(using popularity column) to get 5 least popular  Horror movies"
   ]
  },
  {
   "cell_type": "code",
   "execution_count": 29,
   "id": "e5dcc663",
   "metadata": {},
   "outputs": [
    {
     "data": {
      "text/html": [
       "<div>\n",
       "<style scoped>\n",
       "    .dataframe tbody tr th:only-of-type {\n",
       "        vertical-align: middle;\n",
       "    }\n",
       "\n",
       "    .dataframe tbody tr th {\n",
       "        vertical-align: top;\n",
       "    }\n",
       "\n",
       "    .dataframe thead th {\n",
       "        text-align: right;\n",
       "    }\n",
       "</style>\n",
       "<table border=\"1\" class=\"dataframe\">\n",
       "  <thead>\n",
       "    <tr style=\"text-align: right;\">\n",
       "      <th></th>\n",
       "      <th>release_date</th>\n",
       "      <th>original_title</th>\n",
       "      <th>id</th>\n",
       "      <th>original_language</th>\n",
       "      <th>overview</th>\n",
       "      <th>adult</th>\n",
       "      <th>vote_count</th>\n",
       "      <th>vote_average</th>\n",
       "      <th>popularity</th>\n",
       "    </tr>\n",
       "  </thead>\n",
       "  <tbody>\n",
       "    <tr>\n",
       "      <th>19</th>\n",
       "      <td>2002-11-04</td>\n",
       "      <td>Carrie</td>\n",
       "      <td>7342</td>\n",
       "      <td>en</td>\n",
       "      <td>Carrie White is a lonely and painfully shy tee...</td>\n",
       "      <td>False</td>\n",
       "      <td>383</td>\n",
       "      <td>6.1</td>\n",
       "      <td>69.840</td>\n",
       "    </tr>\n",
       "    <tr>\n",
       "      <th>18</th>\n",
       "      <td>1981-09-10</td>\n",
       "      <td>The Evil Dead</td>\n",
       "      <td>764</td>\n",
       "      <td>en</td>\n",
       "      <td>When a group of college students finds a myste...</td>\n",
       "      <td>False</td>\n",
       "      <td>3131</td>\n",
       "      <td>7.3</td>\n",
       "      <td>70.005</td>\n",
       "    </tr>\n",
       "    <tr>\n",
       "      <th>17</th>\n",
       "      <td>2022-02-24</td>\n",
       "      <td>Studio 666</td>\n",
       "      <td>895744</td>\n",
       "      <td>en</td>\n",
       "      <td>Legendary rock band Foo Fighters move into an ...</td>\n",
       "      <td>False</td>\n",
       "      <td>125</td>\n",
       "      <td>6.2</td>\n",
       "      <td>70.201</td>\n",
       "    </tr>\n",
       "    <tr>\n",
       "      <th>16</th>\n",
       "      <td>1976-01-10</td>\n",
       "      <td>Salò o le 120 giornate di Sodoma</td>\n",
       "      <td>5336</td>\n",
       "      <td>it</td>\n",
       "      <td>Four corrupted fascist libertines round up 9 t...</td>\n",
       "      <td>False</td>\n",
       "      <td>1567</td>\n",
       "      <td>6.5</td>\n",
       "      <td>70.458</td>\n",
       "    </tr>\n",
       "    <tr>\n",
       "      <th>15</th>\n",
       "      <td>1981-10-30</td>\n",
       "      <td>Halloween II</td>\n",
       "      <td>11281</td>\n",
       "      <td>en</td>\n",
       "      <td>After failing to kill stubborn survivor Laurie...</td>\n",
       "      <td>False</td>\n",
       "      <td>1628</td>\n",
       "      <td>6.6</td>\n",
       "      <td>72.900</td>\n",
       "    </tr>\n",
       "  </tbody>\n",
       "</table>\n",
       "</div>"
      ],
      "text/plain": [
       "   release_date                    original_title      id original_language  \\\n",
       "19   2002-11-04                            Carrie    7342                en   \n",
       "18   1981-09-10                     The Evil Dead     764                en   \n",
       "17   2022-02-24                        Studio 666  895744                en   \n",
       "16   1976-01-10  Salò o le 120 giornate di Sodoma    5336                it   \n",
       "15   1981-10-30                      Halloween II   11281                en   \n",
       "\n",
       "                                             overview  adult  vote_count  \\\n",
       "19  Carrie White is a lonely and painfully shy tee...  False         383   \n",
       "18  When a group of college students finds a myste...  False        3131   \n",
       "17  Legendary rock band Foo Fighters move into an ...  False         125   \n",
       "16  Four corrupted fascist libertines round up 9 t...  False        1567   \n",
       "15  After failing to kill stubborn survivor Laurie...  False        1628   \n",
       "\n",
       "    vote_average  popularity  \n",
       "19           6.1      69.840  \n",
       "18           7.3      70.005  \n",
       "17           6.2      70.201  \n",
       "16           6.5      70.458  \n",
       "15           6.6      72.900  "
      ]
     },
     "execution_count": 29,
     "metadata": {},
     "output_type": "execute_result"
    }
   ],
   "source": [
    "df1 = df.sort_values(by=['popularity'], ascending=True)\n",
    "LEAST_POP=df1.head()\n",
    "LEAST_POP"
   ]
  },
  {
   "cell_type": "markdown",
   "id": "69dd62f6",
   "metadata": {},
   "source": [
    "### Plotting Top Populated Movie"
   ]
  },
  {
   "cell_type": "code",
   "execution_count": 30,
   "id": "e60c97da",
   "metadata": {},
   "outputs": [
    {
     "data": {
      "image/png": "[encoded data removed]",
      "text/plain": [
       "<Figure size 432x288 with 1 Axes>"
      ]
     },
     "metadata": {
      "needs_background": "light"
     },
     "output_type": "display_data"
    }
   ],
   "source": [
    "\n",
    "ax=sns.barplot(x=\"original_title\",y=\"popularity\",data=LEAST_POP)"
   ]
  },
  {
   "cell_type": "markdown",
   "id": "2b16c76b",
   "metadata": {},
   "source": [
    "# Creating column month from release_date column"
   ]
  },
  {
   "cell_type": "code",
   "execution_count": 31,
   "id": "e8031725",
   "metadata": {
    "scrolled": false
   },
   "outputs": [
    {
     "data": {
      "text/html": [
       "<div>\n",
       "<style scoped>\n",
       "    .dataframe tbody tr th:only-of-type {\n",
       "        vertical-align: middle;\n",
       "    }\n",
       "\n",
       "    .dataframe tbody tr th {\n",
       "        vertical-align: top;\n",
       "    }\n",
       "\n",
       "    .dataframe thead th {\n",
       "        text-align: right;\n",
       "    }\n",
       "</style>\n",
       "<table border=\"1\" class=\"dataframe\">\n",
       "  <thead>\n",
       "    <tr style=\"text-align: right;\">\n",
       "      <th></th>\n",
       "      <th>release_date</th>\n",
       "      <th>original_title</th>\n",
       "      <th>id</th>\n",
       "      <th>original_language</th>\n",
       "      <th>overview</th>\n",
       "      <th>adult</th>\n",
       "      <th>vote_count</th>\n",
       "      <th>vote_average</th>\n",
       "      <th>popularity</th>\n",
       "      <th>month</th>\n",
       "    </tr>\n",
       "  </thead>\n",
       "  <tbody>\n",
       "    <tr>\n",
       "      <th>0</th>\n",
       "      <td>2022-10-06</td>\n",
       "      <td>Terrifier 2</td>\n",
       "      <td>663712</td>\n",
       "      <td>en</td>\n",
       "      <td>After being resurrected by a sinister entity, ...</td>\n",
       "      <td>False</td>\n",
       "      <td>370</td>\n",
       "      <td>7.1</td>\n",
       "      <td>8396.618</td>\n",
       "      <td>October</td>\n",
       "    </tr>\n",
       "    <tr>\n",
       "      <th>1</th>\n",
       "      <td>2016-10-15</td>\n",
       "      <td>Terrifier</td>\n",
       "      <td>420634</td>\n",
       "      <td>en</td>\n",
       "      <td>On Halloween night, a young woman finds hersel...</td>\n",
       "      <td>False</td>\n",
       "      <td>838</td>\n",
       "      <td>6.5</td>\n",
       "      <td>3457.049</td>\n",
       "      <td>October</td>\n",
       "    </tr>\n",
       "    <tr>\n",
       "      <th>2</th>\n",
       "      <td>2011-08-09</td>\n",
       "      <td>Terrifier</td>\n",
       "      <td>86328</td>\n",
       "      <td>en</td>\n",
       "      <td>After witnessing a brutal murder on Halloween ...</td>\n",
       "      <td>False</td>\n",
       "      <td>39</td>\n",
       "      <td>6.6</td>\n",
       "      <td>2445.841</td>\n",
       "      <td>August</td>\n",
       "    </tr>\n",
       "    <tr>\n",
       "      <th>3</th>\n",
       "      <td>2022-09-15</td>\n",
       "      <td>Jeepers Creepers: Reborn</td>\n",
       "      <td>717728</td>\n",
       "      <td>en</td>\n",
       "      <td>Forced to travel with her boyfriend to a horro...</td>\n",
       "      <td>False</td>\n",
       "      <td>413</td>\n",
       "      <td>5.7</td>\n",
       "      <td>1927.044</td>\n",
       "      <td>September</td>\n",
       "    </tr>\n",
       "    <tr>\n",
       "      <th>4</th>\n",
       "      <td>2022-07-27</td>\n",
       "      <td>Orphan: First Kill</td>\n",
       "      <td>760161</td>\n",
       "      <td>en</td>\n",
       "      <td>After escaping from an Estonian psychiatric fa...</td>\n",
       "      <td>False</td>\n",
       "      <td>1216</td>\n",
       "      <td>6.8</td>\n",
       "      <td>1649.832</td>\n",
       "      <td>July</td>\n",
       "    </tr>\n",
       "  </tbody>\n",
       "</table>\n",
       "</div>"
      ],
      "text/plain": [
       "  release_date            original_title      id original_language  \\\n",
       "0   2022-10-06               Terrifier 2  663712                en   \n",
       "1   2016-10-15                 Terrifier  420634                en   \n",
       "2   2011-08-09                 Terrifier   86328                en   \n",
       "3   2022-09-15  Jeepers Creepers: Reborn  717728                en   \n",
       "4   2022-07-27        Orphan: First Kill  760161                en   \n",
       "\n",
       "                                            overview  adult  vote_count  \\\n",
       "0  After being resurrected by a sinister entity, ...  False         370   \n",
       "1  On Halloween night, a young woman finds hersel...  False         838   \n",
       "2  After witnessing a brutal murder on Halloween ...  False          39   \n",
       "3  Forced to travel with her boyfriend to a horro...  False         413   \n",
       "4  After escaping from an Estonian psychiatric fa...  False        1216   \n",
       "\n",
       "   vote_average  popularity      month  \n",
       "0           7.1    8396.618    October  \n",
       "1           6.5    3457.049    October  \n",
       "2           6.6    2445.841     August  \n",
       "3           5.7    1927.044  September  \n",
       "4           6.8    1649.832       July  "
      ]
     },
     "execution_count": 31,
     "metadata": {},
     "output_type": "execute_result"
    }
   ],
   "source": [
    "df['month'] = df['release_date'].dt.month_name()\n",
    "df.head()"
   ]
  },
  {
   "cell_type": "markdown",
   "id": "bf417315",
   "metadata": {},
   "source": [
    "# Reresentation of number of movies per month"
   ]
  },
  {
   "cell_type": "code",
   "execution_count": 32,
   "id": "da24e150",
   "metadata": {
    "scrolled": false
   },
   "outputs": [
    {
     "data": {
      "text/plain": [
       "October      41\n",
       "September    29\n",
       "August       20\n",
       "July         19\n",
       "January      17\n",
       "June         16\n",
       "May          16\n",
       "April        11\n",
       "February     10\n",
       "March        10\n",
       "November      7\n",
       "December      3\n",
       "Name: month, dtype: int64"
      ]
     },
     "execution_count": 32,
     "metadata": {},
     "output_type": "execute_result"
    }
   ],
   "source": [
    "MONTH_SUMMARY=df['month'].value_counts()\n",
    "MONTH_SUMMARY"
   ]
  },
  {
   "cell_type": "code",
   "execution_count": 33,
   "id": "0a56f93c",
   "metadata": {},
   "outputs": [
    {
     "data": {
      "text/plain": [
       "<AxesSubplot:>"
      ]
     },
     "execution_count": 33,
     "metadata": {},
     "output_type": "execute_result"
    },
    {
     "data": {
      "image/png": "[encoded data removed]",
      "text/plain": [
       "<Figure size 1080x1080 with 1 Axes>"
      ]
     },
     "metadata": {},
     "output_type": "display_data"
    }
   ],
   "source": [
    "MONTH_SUMMARY.plot(kind=\"pie\", label=\"\",figsize=(15, 15))\n"
   ]
  },
  {
   "cell_type": "markdown",
   "id": "40c75a75",
   "metadata": {},
   "source": [
    "# checking number of adult rated  movies"
   ]
  },
  {
   "cell_type": "code",
   "execution_count": 34,
   "id": "4440ec47",
   "metadata": {},
   "outputs": [
    {
     "data": {
      "text/plain": [
       "<AxesSubplot:>"
      ]
     },
     "execution_count": 34,
     "metadata": {},
     "output_type": "execute_result"
    },
    {
     "data": {
      "image/png": "[encoded data removed]",
      "text/plain": [
       "<Figure size 432x288 with 1 Axes>"
      ]
     },
     "metadata": {
      "needs_background": "light"
     },
     "output_type": "display_data"
    }
   ],
   "source": [
    "pd.value_counts(df['adult']).plot.bar()"
   ]
  },
  {
   "cell_type": "markdown",
   "id": "e921d1ed",
   "metadata": {},
   "source": [
    "### Plotting Correlation Matrix between numerical columns"
   ]
  },
  {
   "cell_type": "code",
   "execution_count": 35,
   "id": "f2548c56",
   "metadata": {
    "scrolled": true
   },
   "outputs": [
    {
     "data": {
      "text/html": [
       "<div>\n",
       "<style scoped>\n",
       "    .dataframe tbody tr th:only-of-type {\n",
       "        vertical-align: middle;\n",
       "    }\n",
       "\n",
       "    .dataframe tbody tr th {\n",
       "        vertical-align: top;\n",
       "    }\n",
       "\n",
       "    .dataframe thead th {\n",
       "        text-align: right;\n",
       "    }\n",
       "</style>\n",
       "<table border=\"1\" class=\"dataframe\">\n",
       "  <thead>\n",
       "    <tr style=\"text-align: right;\">\n",
       "      <th></th>\n",
       "      <th>vote_count</th>\n",
       "      <th>vote_average</th>\n",
       "      <th>popularity</th>\n",
       "    </tr>\n",
       "  </thead>\n",
       "  <tbody>\n",
       "    <tr>\n",
       "      <th>vote_count</th>\n",
       "      <td>1.000000</td>\n",
       "      <td>0.286293</td>\n",
       "      <td>-0.098482</td>\n",
       "    </tr>\n",
       "    <tr>\n",
       "      <th>vote_average</th>\n",
       "      <td>0.286293</td>\n",
       "      <td>1.000000</td>\n",
       "      <td>0.093009</td>\n",
       "    </tr>\n",
       "    <tr>\n",
       "      <th>popularity</th>\n",
       "      <td>-0.098482</td>\n",
       "      <td>0.093009</td>\n",
       "      <td>1.000000</td>\n",
       "    </tr>\n",
       "  </tbody>\n",
       "</table>\n",
       "</div>"
      ],
      "text/plain": [
       "              vote_count  vote_average  popularity\n",
       "vote_count      1.000000      0.286293   -0.098482\n",
       "vote_average    0.286293      1.000000    0.093009\n",
       "popularity     -0.098482      0.093009    1.000000"
      ]
     },
     "execution_count": 35,
     "metadata": {},
     "output_type": "execute_result"
    }
   ],
   "source": [
    "df[['vote_count','vote_average','popularity']].corr()"
   ]
  },
  {
   "cell_type": "code",
   "execution_count": 36,
   "id": "973990ba",
   "metadata": {},
   "outputs": [
    {
     "data": {
      "text/plain": [
       "<AxesSubplot:>"
      ]
     },
     "execution_count": 36,
     "metadata": {},
     "output_type": "execute_result"
    },
    {
     "data": {
      "image/png": "[encoded data removed]",
      "text/plain": [
       "<Figure size 1008x720 with 2 Axes>"
      ]
     },
     "metadata": {
      "needs_background": "light"
     },
     "output_type": "display_data"
    }
   ],
   "source": [
    "import seaborn as sns \n",
    "import matplotlib.pyplot as plt\n",
    "f, ax = plt.subplots(figsize=(14,10))\n",
    "sns.heatmap(df[['vote_count','vote_average','popularity']].corr(),square=True)"
   ]
  },
  {
   "cell_type": "code",
   "execution_count": 37,
   "id": "50dcd46b",
   "metadata": {},
   "outputs": [
    {
     "data": {
      "text/plain": [
       "month\n",
       "April        211.946545\n",
       "August       295.810450\n",
       "December     113.535000\n",
       "February     151.031400\n",
       "January      122.441000\n",
       "July         215.223579\n",
       "June         166.864688\n",
       "March        174.757000\n",
       "May          123.264562\n",
       "November     134.650000\n",
       "October      537.376488\n",
       "September    299.025276\n",
       "Name: popularity, dtype: float64"
      ]
     },
     "execution_count": 37,
     "metadata": {},
     "output_type": "execute_result"
    }
   ],
   "source": [
    "count_of_popularity_monthwise = df.groupby('month')['popularity'].mean()\n",
    "count_of_popularity_monthwise"
   ]
  },
  {
   "cell_type": "code",
   "execution_count": 38,
   "id": "8101024e",
   "metadata": {},
   "outputs": [
    {
     "data": {
      "text/plain": [
       "<AxesSubplot:xlabel='month'>"
      ]
     },
     "execution_count": 38,
     "metadata": {},
     "output_type": "execute_result"
    },
    {
     "data": {
      "image/png": "[encoded data removed]",
      "text/plain": [
       "<Figure size 432x288 with 1 Axes>"
      ]
     },
     "metadata": {
      "needs_background": "light"
     },
     "output_type": "display_data"
    }
   ],
   "source": [
    "count_of_popularity_monthwise.plot(kind='bar')"
   ]
  },
  {
   "cell_type": "markdown",
   "id": "51633f9e",
   "metadata": {},
   "source": [
    "### Calculating number votes by reviewer monthwise"
   ]
  },
  {
   "cell_type": "code",
   "execution_count": 39,
   "id": "a1e53316",
   "metadata": {},
   "outputs": [
    {
     "data": {
      "text/plain": [
       "month\n",
       "April         7488\n",
       "August       30459\n",
       "December      7235\n",
       "February     13529\n",
       "January      22459\n",
       "July         43259\n",
       "June         40781\n",
       "March        15831\n",
       "May          37107\n",
       "November     22778\n",
       "October      68017\n",
       "September    46629\n",
       "Name: vote_count, dtype: int64"
      ]
     },
     "execution_count": 39,
     "metadata": {},
     "output_type": "execute_result"
    }
   ],
   "source": [
    "count_of_vote_monthwise = df.groupby('month')['vote_count'].sum()\n",
    "count_of_vote_monthwise"
   ]
  },
  {
   "cell_type": "code",
   "execution_count": 40,
   "id": "4ec6eb31",
   "metadata": {},
   "outputs": [
    {
     "data": {
      "text/plain": [
       "<AxesSubplot:xlabel='month'>"
      ]
     },
     "execution_count": 40,
     "metadata": {},
     "output_type": "execute_result"
    },
    {
     "data": {
      "image/png": "[encoded data removed]",
      "text/plain": [
       "<Figure size 432x288 with 1 Axes>"
      ]
     },
     "metadata": {
      "needs_background": "light"
     },
     "output_type": "display_data"
    }
   ],
   "source": [
    "count_of_vote_monthwise.plot(kind='bar')"
   ]
  },
  {
   "cell_type": "code",
   "execution_count": 41,
   "id": "a778fc68",
   "metadata": {},
   "outputs": [
    {
     "data": {
      "text/plain": [
       "<AxesSubplot:xlabel='month'>"
      ]
     },
     "execution_count": 41,
     "metadata": {},
     "output_type": "execute_result"
    },
    {
     "data": {
      "image/png": "[encoded data removed]",
      "text/plain": [
       "<Figure size 576x360 with 1 Axes>"
      ]
     },
     "metadata": {
      "needs_background": "light"
     },
     "output_type": "display_data"
    }
   ],
   "source": [
    "df.plot(x='month', y='popularity', style='o',figsize=(8, 5))"
   ]
  },
  {
   "cell_type": "code",
   "execution_count": 42,
   "id": "a6386bba",
   "metadata": {},
   "outputs": [
    {
     "name": "stdout",
     "output_type": "stream",
     "text": [
      "Highest Popularity =  8396.618\n",
      "Average Vote =  6.164824120603015\n"
     ]
    }
   ],
   "source": [
    "maximum_popularity=df[\"popularity\"].max()\n",
    "vote_avg=df[\"vote_average\"].mean()\n",
    "\n",
    "print(\"Highest Popularity = \",maximum_popularity)\n",
    "print(\"Average Vote = \",vote_avg)"
   ]
  },
  {
   "cell_type": "markdown",
   "id": "9a8325b3",
   "metadata": {},
   "source": [
    "## Interpretation and explanation of the results. Conclusions with summary of insights, challenges, and future work."
   ]
  },
  {
   "cell_type": "markdown",
   "id": "8c778d21",
   "metadata": {},
   "source": [
    "### Top 5 Popular Horror Movies"
   ]
  },
  {
   "cell_type": "code",
   "execution_count": 43,
   "id": "6c617867",
   "metadata": {},
   "outputs": [
    {
     "name": "stdout",
     "output_type": "stream",
     "text": [
      "Terrifier 2\n",
      "Terrifier\n",
      "Terrifier\n",
      "Jeepers Creepers: Reborn\n",
      "Orphan: First Kill\n"
     ]
    }
   ],
   "source": [
    "for i in TOP_MOVIES['original_title']:\n",
    "    print(i)"
   ]
  },
  {
   "cell_type": "markdown",
   "id": "215fcaa0",
   "metadata": {},
   "source": [
    "### 5 least popular Horror movies"
   ]
  },
  {
   "cell_type": "code",
   "execution_count": 44,
   "id": "a31cb255",
   "metadata": {},
   "outputs": [
    {
     "name": "stdout",
     "output_type": "stream",
     "text": [
      "Carrie\n",
      "The Evil Dead\n",
      "Studio 666\n",
      "Salò o le 120 giornate di Sodoma\n",
      "Halloween II\n"
     ]
    }
   ],
   "source": [
    "for i in LEAST_POP['original_title']:\n",
    "    print(i)"
   ]
  },
  {
   "cell_type": "markdown",
   "id": "aa42171f",
   "metadata": {},
   "source": [
    "### Most of the movies were released in the Month of the October \n",
    "#### Maybe because of Halloween"
   ]
  },
  {
   "cell_type": "code",
   "execution_count": 45,
   "id": "3d73485d",
   "metadata": {},
   "outputs": [
    {
     "data": {
      "text/plain": [
       "<AxesSubplot:ylabel='Monthwise Release'>"
      ]
     },
     "execution_count": 45,
     "metadata": {},
     "output_type": "execute_result"
    },
    {
     "data": {
      "image/png": "[encoded data removed]",
      "text/plain": [
       "<Figure size 576x360 with 1 Axes>"
      ]
     },
     "metadata": {},
     "output_type": "display_data"
    }
   ],
   "source": [
    "MONTH_SUMMARY.plot(kind=\"pie\", label=\"Monthwise Release\",figsize=(8, 5))"
   ]
  },
  {
   "cell_type": "markdown",
   "id": "22889a19",
   "metadata": {},
   "source": [
    "### Most Popular Movies were released in month of October"
   ]
  },
  {
   "cell_type": "code",
   "execution_count": 46,
   "id": "212b4054",
   "metadata": {},
   "outputs": [
    {
     "data": {
      "text/plain": [
       "<AxesSubplot:xlabel='month'>"
      ]
     },
     "execution_count": 46,
     "metadata": {},
     "output_type": "execute_result"
    },
    {
     "data": {
      "image/png": "[encoded data removed]",
      "text/plain": [
       "<Figure size 576x360 with 1 Axes>"
      ]
     },
     "metadata": {
      "needs_background": "light"
     },
     "output_type": "display_data"
    }
   ],
   "source": [
    "count_of_popularity_monthwise.plot(kind='bar',figsize=(8, 5))"
   ]
  },
  {
   "cell_type": "markdown",
   "id": "9e94794f",
   "metadata": {},
   "source": [
    "### From Our inference we can conclude that :\n",
    " - Movies Released in Months of October and September are quite popular\n",
    " - We can further Analysis from dataset that Movies having Following Keywords:\n",
    "     > `Terrifier`,`Reborn`, `Creepers`, `Kill` \n",
    "     are quite Popular\n",
    " - We can further Analysis from dataset that Movies having Following Keywords:\n",
    "     > `Dead`,`Evil`, `Halloween` \n",
    "     are not Popular  \n",
    "    "
   ]
  },
  {
   "cell_type": "markdown",
   "id": "483ff795",
   "metadata": {},
   "source": [
    "### FUTURE WORK \n",
    "#### For further Analysis from dataset we can see that Movies having objective feild have not been fully utilised,later that can be taken into account for future analysis.\n",
    "#### We can also include other genres and further progress with our analysis.\n"
   ]
  },
  {
   "cell_type": "code",
   "execution_count": null,
   "id": "ee15b52b",
   "metadata": {},
   "outputs": [],
   "source": []
  }
 ],
 "metadata": {
  "kernelspec": {
   "display_name": "Python 3 (ipykernel)",
   "language": "python",
   "name": "python3"
  },
  "language_info": {
   "codemirror_mode": {
    "name": "ipython",
    "version": 3
   },
   "file_extension": ".py",
   "mimetype": "text/x-python",
   "name": "python",
   "nbconvert_exporter": "python",
   "pygments_lexer": "ipython3",
   "version": "3.9.12"
  }
 },
 "nbformat": 4,
 "nbformat_minor": 5
}
